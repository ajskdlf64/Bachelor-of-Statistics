{
 "cells": [
  {
   "cell_type": "markdown",
   "metadata": {},
   "source": [
    "# 1. Multiplication Table"
   ]
  },
  {
   "cell_type": "markdown",
   "metadata": {},
   "source": [
    " - 구구단을 출력하는 함수이다.\n",
    " \n",
    " \n",
    " - 총 3개의 단씩 출력하기 위해 3개의 반복문을 사용한다."
   ]
  },
  {
   "cell_type": "code",
   "execution_count": 1,
   "metadata": {},
   "outputs": [
    {
     "name": "stdout",
     "output_type": "stream",
     "text": [
      "1 X 1 =  1\t2 X 1 =  2\t3 X 1 =  3\t\n",
      "1 X 2 =  2\t2 X 2 =  4\t3 X 2 =  6\t\n",
      "1 X 3 =  3\t2 X 3 =  6\t3 X 3 =  9\t\n",
      "1 X 4 =  4\t2 X 4 =  8\t3 X 4 = 12\t\n",
      "1 X 5 =  5\t2 X 5 = 10\t3 X 5 = 15\t\n",
      "1 X 6 =  6\t2 X 6 = 12\t3 X 6 = 18\t\n",
      "1 X 7 =  7\t2 X 7 = 14\t3 X 7 = 21\t\n",
      "1 X 8 =  8\t2 X 8 = 16\t3 X 8 = 24\t\n",
      "1 X 9 =  9\t2 X 9 = 18\t3 X 9 = 27\t\n",
      "\n",
      "4 X 1 =  4\t5 X 1 =  5\t6 X 1 =  6\t\n",
      "4 X 2 =  8\t5 X 2 = 10\t6 X 2 = 12\t\n",
      "4 X 3 = 12\t5 X 3 = 15\t6 X 3 = 18\t\n",
      "4 X 4 = 16\t5 X 4 = 20\t6 X 4 = 24\t\n",
      "4 X 5 = 20\t5 X 5 = 25\t6 X 5 = 30\t\n",
      "4 X 6 = 24\t5 X 6 = 30\t6 X 6 = 36\t\n",
      "4 X 7 = 28\t5 X 7 = 35\t6 X 7 = 42\t\n",
      "4 X 8 = 32\t5 X 8 = 40\t6 X 8 = 48\t\n",
      "4 X 9 = 36\t5 X 9 = 45\t6 X 9 = 54\t\n",
      "\n",
      "7 X 1 =  7\t8 X 1 =  8\t9 X 1 =  9\t\n",
      "7 X 2 = 14\t8 X 2 = 16\t9 X 2 = 18\t\n",
      "7 X 3 = 21\t8 X 3 = 24\t9 X 3 = 27\t\n",
      "7 X 4 = 28\t8 X 4 = 32\t9 X 4 = 36\t\n",
      "7 X 5 = 35\t8 X 5 = 40\t9 X 5 = 45\t\n",
      "7 X 6 = 42\t8 X 6 = 48\t9 X 6 = 54\t\n",
      "7 X 7 = 49\t8 X 7 = 56\t9 X 7 = 63\t\n",
      "7 X 8 = 56\t8 X 8 = 64\t9 X 8 = 72\t\n",
      "7 X 9 = 63\t8 X 9 = 72\t9 X 9 = 81\t\n",
      "\n"
     ]
    }
   ],
   "source": [
    "# 1,4,7을 반복한다.\n",
    "for i in range(0,8,3) :\n",
    "    # 1,2,...,9 를 반복한다.\n",
    "    for j in range(1,10,1) :\n",
    "        # 1,2,3, 4,5,6, 그리고 7,8,9 를 반복한다.\n",
    "        for k in range(1,4,1) : \n",
    "            print(\"{} X {} = {:2}\" .format(k+i,j,(k+i)*j), end=\"\\t\")\n",
    "        print()\n",
    "    print()"
   ]
  },
  {
   "cell_type": "markdown",
   "metadata": {},
   "source": [
    "# 2. Bisection Method"
   ]
  },
  {
   "cell_type": "markdown",
   "metadata": {},
   "source": [
    " - 구간을 설정하고, 그 구간의 이등분으로 나눠서 왼쪽 오른쪽 중 해가 있는 곳을 찾고, 다시 그 구간을 또 이등분하여, 점차 해가 있는 구간을 좁혀가면서 함수의 해를 찾는 방법이다.\n",
    " \n",
    " \n",
    " - 오차(eps)를 설정하고, 구간이 오차보다 작아질 때마다 반복하며, 오차보다 구간이 작아지면 그 때의 가운데 값을 해로 출력한다."
   ]
  },
  {
   "cell_type": "markdown",
   "metadata": {},
   "source": [
    "![figure](./figure/fig10.png)"
   ]
  },
  {
   "cell_type": "markdown",
   "metadata": {},
   "source": [
    "![figure](./figure/fig01.png)"
   ]
  },
  {
   "cell_type": "code",
   "execution_count": 2,
   "metadata": {},
   "outputs": [
    {
     "name": "stdout",
     "output_type": "stream",
     "text": [
      "Solution = 0.7384300231933594\n"
     ]
    }
   ],
   "source": [
    "# 수학 계산에 필요한 라이브러리 호출\n",
    "import math\n",
    "\n",
    "# 함수 생성 : \n",
    "def f(x) : \n",
    "    return math.exp(-abs(x)) - x/(1+x*x)\n",
    "\n",
    "# Bisection Method\n",
    "def bisection(x0, x1, eps=0.00001) :\n",
    "    # 초기값 지정\n",
    "    fx0, fx1 = f(x0), f(x1)\n",
    "    # 두 수 사이에 해가 존재하지 않음\n",
    "    if (fx0 * fx1) > 0 : \n",
    "        print(\"Wrong guess\")\n",
    "    # 두 수의 차이가 오차(eps=0.00001)보다 작을 때 까지 계속 반복\n",
    "    while abs(x0 - x1) > eps : \n",
    "        # 두 수 사이의 가운데 값 생성\n",
    "        x2 = (x0 + x1) / 2\n",
    "        fx2 = f(x2)\n",
    "        # 왼쪽 오른쪽 중 해가 있는 곳을 찾아 다시 분할하기\n",
    "        if (fx0 * fx2) < 0 : x1,fx1 = x2,fx2  \n",
    "        else : x0, fx0 = x2, fx2\n",
    "    return (x0 + x1)/2\n",
    "\n",
    "# 함수 실행\n",
    "print(\"Solution = \" + str(bisection(0,2)))"
   ]
  },
  {
   "cell_type": "markdown",
   "metadata": {},
   "source": [
    "# 3. Newton Method"
   ]
  },
  {
   "cell_type": "markdown",
   "metadata": {},
   "source": [
    " - 수치해석학에서, 뉴턴 방법(영어: Newton's method)은 실숫값 함수의 영점을 근사하는 방법의 하나이다."
   ]
  },
  {
   "cell_type": "markdown",
   "metadata": {},
   "source": [
    "![figure](./figure/fig10.png)"
   ]
  },
  {
   "cell_type": "markdown",
   "metadata": {},
   "source": [
    "![figure](./figure/fig04.png)"
   ]
  },
  {
   "cell_type": "markdown",
   "metadata": {},
   "source": [
    "![figure](./figure/fig05.png)"
   ]
  },
  {
   "cell_type": "markdown",
   "metadata": {},
   "source": [
    "![figure](./figure/fig06.png)"
   ]
  },
  {
   "cell_type": "code",
   "execution_count": 3,
   "metadata": {},
   "outputs": [
    {
     "name": "stdout",
     "output_type": "stream",
     "text": [
      "Newton Method = 0.7384323906731126\n"
     ]
    }
   ],
   "source": [
    "import math\n",
    "\n",
    "# 함수 f\n",
    "def f(x) : \n",
    "    return math.exp(-abs(x)) - x/(1 + x*x)\n",
    "\n",
    "# 함수 f의 미분\n",
    "def f_d(x) : \n",
    "    xsqr = x*x\n",
    "    fp = (xsqr - 1)/((1+xsqr)*(1+xsqr)) + -math.exp(-x) if x>0 else math.exp(x)\n",
    "    return(fp)\n",
    "    \n",
    "# Newton Method\n",
    "def newton(x,f,f_d,eps=0.00001):\n",
    "    fx=f(x)\n",
    "    for _ in range(30):\n",
    "        x = x - fx/f_d(x)\n",
    "        fx = f(x)\n",
    "        if abs(fx) < eps :\n",
    "            return x\n",
    "    print(\"no solution\")\n",
    "    return()\n",
    "\n",
    "# Test Run\n",
    "print(\"Newton Method = \" + str(newton(x=1, f=f, f_d=f_d)))"
   ]
  },
  {
   "cell_type": "markdown",
   "metadata": {},
   "source": [
    "# 4. Fibonacci Sequence"
   ]
  },
  {
   "cell_type": "markdown",
   "metadata": {},
   "source": [
    " - 피보나치 수열이란, 첫째항과 둘째항은 \"1\"이고, 세번째항 부터는 이전 2개의 항의 합으로 이루어지는 수열이다.\n",
    " \n",
    " \n",
    " - 1, 1, 2, 3, 5, 8, 13, ...\n",
    " \n",
    " \n",
    " - 재귀함수란, 함수를 정의할 때, 정의하고자 하는 함수를 그 안에서 자기 자신을 불러내어 정의한 함수이다."
   ]
  },
  {
   "cell_type": "markdown",
   "metadata": {},
   "source": [
    "![figure](./figure/fig02.png)"
   ]
  },
  {
   "cell_type": "code",
   "execution_count": 4,
   "metadata": {},
   "outputs": [
    {
     "name": "stdout",
     "output_type": "stream",
     "text": [
      "== Fibonacci Sequence ==\n",
      "1  1  2  3  5  8  13  21  34  55  "
     ]
    }
   ],
   "source": [
    "# 재귀 함수를 이용한 피보나치 수열\n",
    "def Fibonacci(n) :\n",
    "    if n == 1 or n == 2 :     \n",
    "        return 1\n",
    "    else :\n",
    "        return Fibonacci(n-1) + Fibonacci(n-2)\n",
    "\n",
    "# 생성된 결과 출력\n",
    "for i in range(1,11,1) :     \n",
    "    if i == 1 : \n",
    "        print(\"== Fibonacci Sequence ==\")\n",
    "    print(\"{}\" .format(Fibonacci(i)), end=\"  \")"
   ]
  },
  {
   "cell_type": "markdown",
   "metadata": {},
   "source": [
    "# 5. Gaussian Elimination"
   ]
  },
  {
   "cell_type": "markdown",
   "metadata": {},
   "source": [
    " - 가우스 소거법은 행렬의 연산을 이용하여, 연립 1차 방정식의 해를 구하는 방법이다.\n",
    " \n",
    " \n",
    " - 알고리즘의 핵심은, 기약행 사다리꼴 행렬을 만드는 것이다."
   ]
  },
  {
   "cell_type": "markdown",
   "metadata": {},
   "source": [
    "$$\n",
    "\\begin{pmatrix} \n",
    "   3 & 1 & -1 \\\\\n",
    "   1 & 4 & 1 \\\\\n",
    "   2 & 1 & 2\n",
    "\\end{pmatrix}\n",
    "\\begin{pmatrix} \n",
    "   x \\\\\n",
    "   y \\\\\n",
    "   z\n",
    "\\end{pmatrix}\n",
    "\\quad\n",
    " = \n",
    "\\quad\n",
    "\\begin{pmatrix} \n",
    "   2 \\\\\n",
    "   12 \\\\\n",
    "   10\n",
    "\\end{pmatrix}\n",
    "$$"
   ]
  },
  {
   "cell_type": "markdown",
   "metadata": {},
   "source": [
    "![figure](./figure/fig03.png)"
   ]
  },
  {
   "cell_type": "code",
   "execution_count": 5,
   "metadata": {},
   "outputs": [
    {
     "name": "stdout",
     "output_type": "stream",
     "text": [
      "x = 1.0, y = 2.0, z = 3.0\n"
     ]
    }
   ],
   "source": [
    "A = [[3,1,-1],[1,4,1],[2,1,2]]\n",
    "B = [2,12,10]\n",
    "X = [0,0,0]\n",
    "N = 3\n",
    "\n",
    "# 행사다리꼴 만들기\n",
    "for i in range(N-1) :      \n",
    "    for k in range(i+1,N) :                      \n",
    "        piv = -A[k][i] / A[i][i]                 \n",
    "        for j in range(i+1,N) :                  \n",
    "            A[k][j] = A[k][j] + piv * A[i][j]    \n",
    "        B[k] = B[k] + piv * B[i]                 \n",
    "          \n",
    "# 기약행사다리꼴 행렬의 모양을 완성\n",
    "A[1][0], A[2][0], A[2][1] = 0, 0, 0              \n",
    "X[N-1] = B[N-1] / A[N-1][N-1]                   \n",
    "\n",
    "# 계산할 때는 역으로 밑에서부터 z를 계산하고, y를 계산하고,...\n",
    "for i in range(N-2, -1, -1) : \n",
    "    xsum = 0\n",
    "    for k in range(i+1, N) : \n",
    "        xsum = xsum + A[i][k] * X[k]\n",
    "    X[i] = (B[i] - xsum) / A[i][i]\n",
    "\n",
    "print(\"x = {}, y = {}, z = {}\" .format(round(X[0],2), round(X[1],2), round(X[2],2)))"
   ]
  },
  {
   "cell_type": "markdown",
   "metadata": {},
   "source": [
    "# 6. Magic Sqaure"
   ]
  },
  {
   "cell_type": "markdown",
   "metadata": {},
   "source": [
    " - 마방진은 일정한 칸 안에 자연수 1부터 중복이나 빠짐없이 배열하여 가로와 세로의 합이 동일하도록 만드는 숫자표이다."
   ]
  },
  {
   "cell_type": "markdown",
   "metadata": {},
   "source": [
    "![figure](./figure/fig07.png)"
   ]
  },
  {
   "cell_type": "markdown",
   "metadata": {},
   "source": [
    "![figure](./figure/fig08.png)"
   ]
  },
  {
   "cell_type": "code",
   "execution_count": 6,
   "metadata": {},
   "outputs": [
    {
     "name": "stdout",
     "output_type": "stream",
     "text": [
      "15\t 8\t 1\t24\t17\t\n",
      "16\t14\t 7\t 5\t23\t\n",
      "22\t20\t13\t 6\t 4\t\n",
      " 3\t21\t19\t12\t10\t\n",
      " 9\t 2\t25\t18\t11\t\n"
     ]
    }
   ],
   "source": [
    "import numpy as np\n",
    "\n",
    "def magic_square(n) :\n",
    "    # 입력 받은 숫자가 짝수일 경우 에러 출력\n",
    "    if n % 2 == 0 :\n",
    "        print(\"Number is not odd!!!\")\n",
    "        return 0\n",
    "    # nXn의 0으로 채워진 행렬 생성\n",
    "    matrix = np.zeros((n,n))\n",
    "    # 초기값 지정\n",
    "    x, y, value = 0, int(n/2), 1\n",
    "    # 시작 위치 1 지정\n",
    "    matrix[x,y] = value\n",
    "    # 나머지 칸 채우기 : 2 ~ 25\n",
    "    for value in range(2, n*n+1) :\n",
    "        # 위로 한 칸 상승, 왼쪽으로 한 칸 이동\n",
    "        x, y = x-1, y-1\n",
    "        # 더이상 왼쪽으로 이동할 수 없는 경우 반대편으로 이동\n",
    "        if x < 0 and y >= 0 :\n",
    "            x = n-1\n",
    "        # 더 이상 위로 올라갈 수 없는 경우 반대편으로 이동\n",
    "        elif x >= 0 and y < 0 :\n",
    "            y = n-1\n",
    "        # 가야할 자리가 맨 왼쪽 위 대각선인 경우 원래 자리에서 한 칸 아래로 이동\n",
    "        elif x < 0 and y < 0 :\n",
    "            x = x+2\n",
    "            y = y+1\n",
    "        # 가야할 곳이 빈자리가 아닌 경우 원래 자리에서 한 칸 아래로 이동\n",
    "        elif matrix[x,y] != 0 :\n",
    "            x = x+2\n",
    "            y = y+1\n",
    "        # 값 채워 넣기\n",
    "        matrix[x,y] = value\n",
    "        \n",
    "    # 마방진 출력\n",
    "    for i in range (n) :\n",
    "        for j in range (n) :\n",
    "            print(\"%2d\" %matrix[i][j], end=\"\\t\")\n",
    "        print ()\n",
    "        \n",
    "    # 반환\n",
    "    return None\n",
    "\n",
    "# 5X5 마방진\n",
    "magic_square(5)"
   ]
  },
  {
   "cell_type": "markdown",
   "metadata": {},
   "source": [
    "![figure](./figure/fig11.png)"
   ]
  },
  {
   "cell_type": "code",
   "execution_count": 7,
   "metadata": {},
   "outputs": [
    {
     "name": "stdout",
     "output_type": "stream",
     "text": [
      "15\t 8\t 1\t24\t17\t\n",
      "16\t14\t 7\t 5\t23\t\n",
      "22\t20\t13\t 6\t 4\t\n",
      " 3\t21\t19\t12\t10\t\n",
      " 9\t 2\t25\t18\t11\t\n"
     ]
    }
   ],
   "source": [
    "def mSquare ( n ) : # n : an odd number\n",
    "    \n",
    "    nsqr = n * n\n",
    "    \n",
    "    M = [[0 for col in range (n)] for row in range (n)]\n",
    "    i = 0\n",
    "    j = int ((n+1)/2) - 1\n",
    "    M[i][j] = 1\n",
    "    \n",
    "    for k in range (2, nsqr+1) :\n",
    "        i = i - 1\n",
    "        j = j - 1\n",
    "        if (i >= 0) & (j >= 0) :\n",
    "            if (M[i][j] != 0 ) :\n",
    "                i = i + 2\n",
    "                j = j + 1\n",
    "        else :\n",
    "            if (i == -1) :\n",
    "                if ( j == -1):\n",
    "                    i = i + 2\n",
    "                    j = j + 1     \n",
    "                else : i = n - 1\n",
    "            else : j = n - 1\n",
    "        M[i][j] = k\n",
    "    for i in range (n) :\n",
    "        for j in range (n) :\n",
    "            print (\"%2d\" %(M[i][j]), end=\"\\t\")\n",
    "        print()\n",
    "    return None\n",
    "\n",
    "# 마방진\n",
    "mSquare(5)"
   ]
  },
  {
   "cell_type": "markdown",
   "metadata": {},
   "source": [
    "# 7. Sort"
   ]
  },
  {
   "cell_type": "code",
   "execution_count": 8,
   "metadata": {},
   "outputs": [
    {
     "name": "stdout",
     "output_type": "stream",
     "text": [
      "[사용자 정의 함수로 만든 정렬 함수]\n",
      "[159.2742651052831, 164.08294469429123, 167.17417777542465, 169.62949181675714, 170.76457248396238, 170.79704420950898, 171.13829374443182, 171.40364967420456, 171.54124540241634, 178.1833500554688]\n",
      "\n",
      "[파이썬 내장된 정렬 함수]\n",
      "[159.2742651052831, 164.08294469429123, 167.17417777542465, 169.62949181675714, 170.76457248396238, 170.79704420950898, 171.13829374443182, 171.40364967420456, 171.54124540241634, 178.1833500554688]\n"
     ]
    }
   ],
   "source": [
    "# Data 생성\n",
    "from scipy.stats import norm\n",
    "x = [norm.rvs() * 5 + 170. for _ in range(10)]\n",
    "x_1 = x\n",
    "x_2 = x\n",
    "\n",
    "# 정렬 함수\n",
    "def sort_function (X) :\n",
    "    # 주어진 데이터의 길이를 구한다.\n",
    "    N = len(X)\n",
    "    # 0부터 주어진 길이-1 까지 반복한다.\n",
    "    for i in range(N-1):\n",
    "        # 스위칭을 하기 위해 임시로 k라는 변수를 만든다.\n",
    "        k = i\n",
    "        # 위에 반복문에 해당하는 기준 숫자와 그 뒷숫자와 1대1로 비교하여 만약 뒷수자가 더 작으면 자리를 스위칭한다.\n",
    "        for j in range(i+1,N) :\n",
    "            # 인접한 두개의 숫자를 비교해서\n",
    "            if X[k] > X[j] :  \n",
    "                # 만약 뒷숫자가 더 작으면 인덱싱을 스위칭\n",
    "                k = j\n",
    "        # 스위칭된 인덱싱에 바뀐 값을 넣어준다.\n",
    "        X[k],X[i] = X[i],X[k]\n",
    "    # 정렬이 된 데이터를 반환한다.\n",
    "    return X\n",
    "\n",
    "# 사용자 정의 함수로 만든 데이터\n",
    "print(\"[사용자 정의 함수로 만든 정렬 함수]\")\n",
    "print(sort_function(x_1), end=\"\\n\\n\")\n",
    "\n",
    "# 파이썬에 내장된 함수\n",
    "print(\"[파이썬 내장된 정렬 함수]\")\n",
    "x_2.sort()\n",
    "print(x_2)"
   ]
  },
  {
   "cell_type": "markdown",
   "metadata": {},
   "source": [
    "# 8. Object Oriented Programming"
   ]
  },
  {
   "cell_type": "code",
   "execution_count": 9,
   "metadata": {},
   "outputs": [
    {
     "name": "stdout",
     "output_type": "stream",
     "text": [
      "{'Mean': 170.51, 'Var': 22.63, 'Q1': 167.23, 'Median': 170.43, 'Q3': 174.48, 'Min': 158.42, 'Max': 180.22}\n",
      "\n",
      "   I----------------------------------------------------------------------------I\n",
      " 3 I***                                                                         I\n",
      " 7 I*******                                                                     I\n",
      "10 I**********                                                                  I\n",
      "18 I******************                                                          I\n",
      "24 I************************                                                    I\n",
      "17 I*****************                                                           I\n",
      "14 I**************                                                              I\n",
      " 6 I******                                                                      I\n",
      "   I----------------------------------------------------------------------------I\n"
     ]
    },
    {
     "data": {
      "text/plain": [
       "[3, 7, 10, 18, 24, 17, 14, 6]"
      ]
     },
     "execution_count": 9,
     "metadata": {},
     "output_type": "execute_result"
    }
   ],
   "source": [
    "# 클래스 생성\n",
    "class Univariate :\n",
    "    \n",
    "    def __init__(self, x) :\n",
    "        self.x = x\n",
    "        \n",
    "    @staticmethod\n",
    "    def sort_fn(x) :\n",
    "        n = len(x)   \n",
    "        for i in range(n-1):\n",
    "            k = i\n",
    "            for j in range(i+1,n) :\n",
    "                if x[k] > x[j] : \n",
    "                    k = j\n",
    "            x[k], x[i] = x[i], x[k]\n",
    "        return x\n",
    "    \n",
    "    @staticmethod\n",
    "    def quantile_fn(x,q) :\n",
    "        n = len(x)\n",
    "        nq = n*q\n",
    "        t = int(nq)\n",
    "        g = nq - t\n",
    "        return (1-g)*x[t-1] + g*x[t]\n",
    "    \n",
    "    @staticmethod\n",
    "    def summary_fn(x) :\n",
    "        n = len(x)\n",
    "        xbar,s2 = 0,0\n",
    "        \n",
    "        for i in range(n) :\n",
    "            xbar = xbar + x[i]\n",
    "            s2 = s2 + x[i]*x[i]\n",
    "        \n",
    "        # Sort\n",
    "        x = Univariate.sort_fn(x)\n",
    "        \n",
    "        # 평균    \n",
    "        xbar = xbar/n\n",
    "        \n",
    "        # 분산\n",
    "        s2 = (s2 - n*xbar*xbar)/(n-1)\n",
    "        \n",
    "        # 분위수\n",
    "        median = Univariate.quantile_fn(x,0.5)\n",
    "        Q1 = Univariate.quantile_fn(x,0.25)\n",
    "        Q3 = Univariate.quantile_fn(x,0.75)\n",
    "        \n",
    "        return {\"Mean\":round(xbar,2),\"Var\":round(s2,2),\"Q1\":round(Q1,2),\"Median\":round(median,2),\"Q3\":round(Q3,2),\"Min\":round(x[0],2), \"Max\":round(x[n-1],2)}\n",
    "    \n",
    "    # Hist plot    \n",
    "    def histogram_plot(self, kkh=0, PLOT_LENGTH = 100):\n",
    "        import math                                                               # 라이브러리 math\n",
    "        n = len(self.x)                                                           # 데이터의 길이\n",
    "        if kkh == 0 :                                                             # 가장 적절한 구간의 수\n",
    "            kkh = 1 + int(math.log2(n) + 0.5)                                  \n",
    "        x = Univariate.sort_fn(self.x)                                            # 데이터 정렬\n",
    "        D = (x[n-1] - x[0]) / kkh                                                 # 구간의 크기\n",
    "        nobs = [0 for _ in range(kkh)]                                            # 정답 리스트 생성\n",
    "        for i in range(0,n-1)  :                                                  # 각각의 데이터를 확인\n",
    "            k = int((x[i] - x[0]) / D)                                            # 몇번째 구간인지 체크\n",
    "            nobs[k] = nobs[k] + 1                                                 # 해당 구간 값에 +1\n",
    "        N_MAX = max(nobs)                                                         # 구간의 최대 길이 체크\n",
    "        DECO = \"I\" + \"-\"*(PLOT_LENGTH-N_MAX) + \"I\"                                # 위아래 장식 모양\n",
    "        print(\"  \",DECO)                                                          # 위 장식\n",
    "        for i in range(kkh) :                                                     # 정답 리스트를 돌면서\n",
    "            S = \"I\" + \"*\"*nobs[i] + \" \"*((PLOT_LENGTH-N_MAX) - nobs[i]) + \"I\"     # Bar 생성\n",
    "            print(\"{:2} {}\". format(nobs[i],S))                                   # 별 그리기\n",
    "        print(\"  \",DECO)                                                          # 아래 장식\n",
    "        return nobs\n",
    "    \n",
    "# 난수 생성\n",
    "import numpy as np\n",
    "x = np.random.normal(loc=170., scale=5.0, size = 100)\n",
    "\n",
    "# Summary 함수 실행\n",
    "print(Univariate.summary_fn(x), end=\"\\n\\n\")\n",
    "\n",
    "# Hist Plot 실행\n",
    "aClass = Univariate(x)\n",
    "aClass.histogram_plot()"
   ]
  },
  {
   "cell_type": "code",
   "execution_count": 16,
   "metadata": {},
   "outputs": [
    {
     "data": {
      "image/png": "[encoded data removed]",
      "text/plain": [
       "<Figure size 432x288 with 1 Axes>"
      ]
     },
     "metadata": {
      "needs_background": "light"
     },
     "output_type": "display_data"
    },
    {
     "data": {
      "image/png": "[encoded data removed]",
      "text/plain": [
       "<Figure size 432x288 with 1 Axes>"
      ]
     },
     "metadata": {
      "needs_background": "light"
     },
     "output_type": "display_data"
    }
   ],
   "source": [
    "# 정규확률지 클래스 생성\n",
    "class NormQuantPlot :\n",
    "    \n",
    "    def __init__(self, x, lambdax=1) :\n",
    "        self.x = x\n",
    "        self.lambdax = lambdax\n",
    "        \n",
    "    @staticmethod\n",
    "    def qqplot(y, title=\"Normal Probability Plot\", isShow=True) :\n",
    "        from scipy.stats import norm\n",
    "        from matplotlib import pyplot as plt    \n",
    "        n = len(y)\n",
    "        y.sort()\n",
    "        a = [3./8., 1./2.][n>10]\n",
    "        p = [((i+1)-a)/(n+1-a) for i in range(n)]\n",
    "        rankits = norm.ppf(p)\n",
    "        plt.plot(rankits, y, \"ro\")\n",
    "        plt.title(title)\n",
    "        plt.xlabel(\"Rankit\")\n",
    "        plt.ylabel(\"Sample Quantiles\")\n",
    "        plt.grid(True)\n",
    "        if isShow : \n",
    "            plt.show( )\n",
    "\n",
    "\n",
    "    def plot(self) :\n",
    "        y = self.x\n",
    "        if self.lambdax != 1 :\n",
    "            y = NormQuantPlot.powerTransform(self.x, self.lambdax)\n",
    "            NormQuantPlot.qqplot(y, title = \"Normal Probability Plot\" + ' [lambda = ' + str(self.lambdax) + \"]\")\n",
    "    \n",
    "    @staticmethod\n",
    "    def powerTransform(x, lambdax) :\n",
    "        import math\n",
    "        if lambdax == 0:\n",
    "            return [math.log(x[i]) for i in range(len(x))]\n",
    "        else :\n",
    "            return [pow(x[i], lambdax) for i in range(len(x))]\n",
    "        \n",
    "# 정규확률지 실행\n",
    "import matplotlib.pyplot as plt\n",
    "from scipy.stats import chi2  \n",
    "x = [chi2.rvs(df =2) for _ in range (100) ]\n",
    "NormQuantPlot.qqplot(x) \n",
    "qq = NormQuantPlot (x)\n",
    "qq.plot()\n",
    "plt.show()\n",
    "qq.lambdax = 0 \n",
    "qq.plot()\n",
    "plt.show()"
   ]
  },
  {
   "cell_type": "markdown",
   "metadata": {},
   "source": [
    "# 9. Im Memory Reg"
   ]
  },
  {
   "cell_type": "code",
   "execution_count": 11,
   "metadata": {},
   "outputs": [
    {
     "name": "stdout",
     "output_type": "stream",
     "text": [
      "       variable       Estimate\n",
      "0     intercept -104229.182238\n",
      "1   runs.scored    2745.525726\n",
      "2          wins    2599.805807\n",
      "3  games.behind  -16036.985339\n"
     ]
    }
   ],
   "source": [
    "import pandas as pd\n",
    "import numpy as np\n",
    "\n",
    "def reg(pdDFrame, dependent):\n",
    "    varName = pdDFrame.keys()                 # get keys(variable name)\n",
    "    y = pdDFrame[dependent].to_numpy()        # np.array of dependent variable\n",
    "\n",
    "    xName = varName[varName != dependent]     # variable names of independent variables    \n",
    "    X = pdDFrame[xName].to_numpy()            # np.array of independent variable\n",
    "    \n",
    "    n, k = X.shape\n",
    "    \n",
    "    intercept = np.ones((n,1))\n",
    "    X = np.append(intercept, X, axis=1)      # add column of 1's to X matrix for intercept\n",
    "    \n",
    "    xName = xName.insert(0, 'intercept')     # variable names of independent variables with intercept   \n",
    "    \n",
    "    XpX = X.T.dot(X)                         # X'X matrix\n",
    "    XpXInv = np.linalg.inv(XpX)              # (X'X)^{-1} : inverse matrix of X'X\n",
    "    Xpy = X.T.dot(y)                         # X'y\n",
    "    \n",
    "    parm = XpXInv.dot(Xpy)                   # B = (X'X)^{-1} X'y\n",
    "    \n",
    "    return(pd.DataFrame({\"variable\": xName, \"Estimate\": parm}))\n",
    "\n",
    "data = pd.read_csv(\"MLB.csv\", sep=',', na_values=\".\", encoding='utf-8')\n",
    "\n",
    "print(reg(data, \"attendance\"))"
   ]
  },
  {
   "cell_type": "markdown",
   "metadata": {},
   "source": [
    "# 10. Out of Core T"
   ]
  },
  {
   "cell_type": "code",
   "execution_count": 12,
   "metadata": {},
   "outputs": [
    {
     "name": "stdout",
     "output_type": "stream",
     "text": [
      "       variable          xbar           S^2\n",
      "0   runs.scored  6.949403e+02  1.106149e+04\n",
      "1          wins  7.884964e+01  1.606130e+02\n",
      "2  games.behind  1.438842e+01  1.380912e+02\n",
      "3    attendance  1.777994e+06  5.713437e+11\n"
     ]
    }
   ],
   "source": [
    "import pandas as pd\n",
    "import numpy as np\n",
    "import csv\n",
    "#data = pd.read_csv('~/Documents/Data/example.csv', sep=',', na_values=\".\", encoding='utf-8')\n",
    "\n",
    "def outofCore_Stat(file):\n",
    "    f = open(file, 'r', encoding='utf-8')    \n",
    "    rdr = csv.reader(f)\n",
    "    varName = next(rdr)  # first line: names of feature\n",
    "    \n",
    "    k = len(varName)\n",
    "    xbar = np.zeros(k)\n",
    "    S2 = np.zeros(k)\n",
    "\n",
    "    for n, row in enumerate(rdr):  # enumerate object \n",
    "        \n",
    "#       change str to float and make numpy arry         \n",
    "\n",
    "        xValues = np.array(row, dtype = np.float32)\n",
    "        xbar = xbar + xValues         # calculate sum X\n",
    "        S2 = S2 + xValues * xValues   # calcualte sum X^2\n",
    "        \n",
    "    f.close()        \n",
    "    n += 1\n",
    "    xbar = xbar/n\n",
    "    S2 = (S2 - n * xbar * xbar) /(n-1)\n",
    "    \n",
    "    return(pd.DataFrame({\"variable\": varName, \"xbar\": xbar, \"S^2\": S2}))\n",
    "\n",
    "file = 'MLB.csv'\n",
    "print(outofCore_Stat(file))"
   ]
  },
  {
   "cell_type": "markdown",
   "metadata": {},
   "source": [
    "# 11. Shuffle"
   ]
  },
  {
   "cell_type": "markdown",
   "metadata": {},
   "source": [
    "### Ram Suffle"
   ]
  },
  {
   "cell_type": "code",
   "execution_count": 13,
   "metadata": {},
   "outputs": [],
   "source": [
    "import pandas as pd\n",
    "import numpy as np\n",
    "#import os\n",
    "\n",
    "def ram_Shuffle(filename_in, filename_out, header=True, SEP=','):\n",
    "    \n",
    "    with open(filename_in, 'r') as R:\n",
    "        data = pd.read_csv(R, sep = SEP)\n",
    "\n",
    "    with open(filename_out, 'w') as W:\n",
    "        data.iloc[np.random.permutation(len(data))].to_csv(W, index=False, header = header, sep=SEP)\n",
    "    \n",
    "# local_path = os.getcwd() + os.sep\n",
    "        \n",
    "local_path = './'\n",
    "source = 'bikesharing/hour.csv'\n",
    "fileName_in = local_path + source\n",
    "fileName_out = local_path + 'bikesharing/hour_RamShuffled.csv'\n",
    "\n",
    "ram_Shuffle(fileName_in, fileName_out, header=True)"
   ]
  },
  {
   "cell_type": "markdown",
   "metadata": {},
   "source": [
    "### Disk Suffle"
   ]
  },
  {
   "cell_type": "code",
   "execution_count": 14,
   "metadata": {},
   "outputs": [],
   "source": [
    "import pandas as pd\n",
    "import numpy as np\n",
    "#import os\n",
    "\n",
    "def disk_shuffle(filename_in, filename_out, header=True, CHUNK_SIZE = 5000, SEP=','):\n",
    "    with open(filename_out, 'a') as W:\n",
    "        with open(filename_in, 'r') as R:\n",
    "            iterator = pd.read_csv(R, chunksize=CHUNK_SIZE)\n",
    "            for n, df in enumerate(iterator):\n",
    "                if n==0 and header:\n",
    "                    df.iloc[np.random.permutation(len(df))].to_csv(W, index=False, header=True, sep=SEP)\n",
    "                else :\n",
    "                    df.iloc[np.random.permutation(len(df))].to_csv(W, index=False, header=False, sep=SEP)\n",
    "\n",
    "    \n",
    "#local_path = os.getcwd() + os.sep\n",
    "local_path = './'\n",
    "source = 'bikesharing/hour.csv'\n",
    "fileName_in = local_path + source\n",
    "fileName_out = local_path + 'bikesharing/hour_DiskShuffled.csv'\n",
    "CHUNK_SIZE = 1000\n",
    "\n",
    "disk_shuffle(fileName_in, fileName_out, header=True, CHUNK_SIZE = 10000, SEP=',')"
   ]
  },
  {
   "cell_type": "markdown",
   "metadata": {},
   "source": [
    "### Com Stat"
   ]
  },
  {
   "cell_type": "code",
   "execution_count": 15,
   "metadata": {},
   "outputs": [
    {
     "data": {
      "image/png": "[encoded data removed]",
      "text/plain": [
       "<Figure size 432x288 with 1 Axes>"
      ]
     },
     "metadata": {
      "needs_background": "light"
     },
     "output_type": "display_data"
    },
    {
     "data": {
      "image/png": "[encoded data removed]",
      "text/plain": [
       "<Figure size 432x288 with 1 Axes>"
      ]
     },
     "metadata": {
      "needs_background": "light"
     },
     "output_type": "display_data"
    },
    {
     "data": {
      "image/png": "[encoded data removed]",
      "text/plain": [
       "<Figure size 432x288 with 1 Axes>"
      ]
     },
     "metadata": {
      "needs_background": "light"
     },
     "output_type": "display_data"
    }
   ],
   "source": [
    "import csv, math\n",
    "import pandas as pd\n",
    "import matplotlib.pyplot as plt\n",
    "# import os\n",
    "\n",
    "class StreamStat:\n",
    "    def __init__(self, fileName, feature, title):\n",
    "        self.fileName = fileName\n",
    "        self.feature = feature\n",
    "        self.title = title\n",
    "        \n",
    "    def meanStd(self):\n",
    "        running_mean = list()\n",
    "        running_std = list()\n",
    "\n",
    "        with open(self.fileName, 'r') as R:\n",
    "            iterator = csv.DictReader(R, delimiter=',')    \n",
    "            first = next(iterator)\n",
    "            m = float(first[self.feature])\n",
    "            s = 0.\n",
    "            running_mean.append(m)\n",
    "            running_std.append(s)\n",
    "        \n",
    "            for n, row in enumerate(iterator):\n",
    "                n = n + 2\n",
    "                x = float(row[self.feature])\n",
    "                s = s + (1. - 1./n) * (x - m) * (x - m)\n",
    "                m = ((n-1) * m + x)/n\n",
    "                running_mean.append(m)\n",
    "                running_std.append(math.sqrt(s/(n-1)))\n",
    "            \n",
    "        return(pd.DataFrame({'mean': running_mean, 'std': running_std}))\n",
    "    \n",
    "    def plot(self):\n",
    "        data = StreamStat.meanStd(self)\n",
    "        minY = min(data.min())\n",
    "        maxY = max(data.max())\n",
    "        \n",
    "        plt.plot(data['mean'],'r-', label='mean')\n",
    "        plt.plot(data['std'], 'b-', label='standard deviation')\n",
    "        plt.title(self.title)\n",
    "        plt.ylim(minY-0.1, maxY+ 0.05)\n",
    "        plt.xlabel('Number of training examples')\n",
    "        plt.ylabel('Value')\n",
    "        plt.legend(loc='lower right', numpoints= 1)\n",
    "        plt.grid(True)\n",
    "        plt.show()        \n",
    "        \n",
    "\n",
    "#local_path = os.getcwd() + os.sep\n",
    "local_path = './'\n",
    "\n",
    "original = local_path + 'bikesharing/hour.csv'\n",
    "shuffled = local_path + 'bikesharing/hour_RamShuffled.csv'\n",
    "disk_shuffled = local_path + 'bikesharing/hour_DiskShuffled.csv'\n",
    "\n",
    "nonShuff = StreamStat(original, 'temp', \"Original Data\")\n",
    "nonShuff.plot()\n",
    "plt.show()\n",
    "shuff = StreamStat(shuffled, 'temp', \"Ram Shuffed Data\")\n",
    "shuff.plot()\n",
    "plt.show()\n",
    "Dshuff = StreamStat(shuffled, 'temp', \"Disk Shuffed Data\")\n",
    "Dshuff.plot()\n",
    "plt.show()"
   ]
  }
 ],
 "metadata": {
  "kernelspec": {
   "display_name": "Python 3",
   "language": "python",
   "name": "python3"
  },
  "language_info": {
   "codemirror_mode": {
    "name": "ipython",
    "version": 3
   },
   "file_extension": ".py",
   "mimetype": "text/x-python",
   "name": "python",
   "nbconvert_exporter": "python",
   "pygments_lexer": "ipython3",
   "version": "3.6.9"
  }
 },
 "nbformat": 4,
 "nbformat_minor": 2
}
