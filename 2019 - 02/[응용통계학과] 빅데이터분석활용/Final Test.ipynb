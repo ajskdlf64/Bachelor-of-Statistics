{
 "cells": [
  {
   "cell_type": "markdown",
   "metadata": {},
   "source": [
    "# Bisection Method"
   ]
  },
  {
   "cell_type": "markdown",
   "metadata": {},
   "source": [
    " - 구간을 설정하고, 그 구간의 이등분으로 나눠서 왼쪽 오른쪽 중 해가 있는 곳을 찾고, 다시 그 구간을 또 이등분하여, 점차 해가 있는 구간을 좁혀가면서 함수의 해를 찾는 방법이다.\n",
    " \n",
    " \n",
    " - 오차(eps)를 설정하고, 구간이 오차보다 작아질 때마다 반복하며, 오차보다 구간이 작아지면 그 때의 가운데 값을 해로 출력한다.\n",
    " \n",
    " \n",
    " - 사용된 함수 : \n",
    " $$\n",
    " e^{-|x| - {{x} \\over {1+x^2}}}\n",
    " $$"
   ]
  },
  {
   "cell_type": "markdown",
   "metadata": {},
   "source": [
    "![figure](./figure/fig01.png)"
   ]
  },
  {
   "cell_type": "code",
   "execution_count": 1,
   "metadata": {},
   "outputs": [
    {
     "name": "stdout",
     "output_type": "stream",
     "text": [
      "Bisection Method Solution = 0.7384\n"
     ]
    }
   ],
   "source": [
    "# 수학 계산에 필요한 라이브러리 호출\n",
    "import math\n",
    "\n",
    "# 함수 생성 : \n",
    "def f(x) : \n",
    "    return math.exp(-abs(x)) - x/(1+x*x)\n",
    "\n",
    "# Bisection Method\n",
    "def bisection(x0, x1, eps=0.00001) :\n",
    "    # 초기값 지정\n",
    "    fx0, fx1 = f(x0), f(x1)\n",
    "    # 두 수 사이에 해가 존재하지 않음\n",
    "    if (fx0 * fx1) > 0 : print(\"Wrong guess\")\n",
    "    # 두 수의 차이가 오차(eps=0.00001)보다 작을 때 까지 계속 반복\n",
    "    while abs(x0 - x1) > eps : \n",
    "        # 두 수 사이의 가운데 값 생성\n",
    "        x2 = (x0 + x1) / 2\n",
    "        fx2 = f(x2)\n",
    "        # 왼쪽 오른쪽 중 해가 있는 곳을 찾아 다시 분할하기\n",
    "        if (fx0 * fx2) < 0 : x1,fx1 = x2,fx2  \n",
    "        else : x0, fx0 = x2, fx2\n",
    "    return (x0 + x1)/2\n",
    "\n",
    "# 함수 실행\n",
    "print(\"Bisection Method Solution = \" + str(round(bisection(0,2),4)))"
   ]
  },
  {
   "cell_type": "markdown",
   "metadata": {},
   "source": [
    "# Fibonacci Sequence"
   ]
  },
  {
   "cell_type": "markdown",
   "metadata": {},
   "source": [
    " - 피보나치 수열이란, 첫째항과 둘째항은 \"1\"이고, 세번째항 부터는 이전 2개의 항의 합으로 이루어지는 수열이다.\n",
    " \n",
    " \n",
    " - 1, 1, 2, 3, 5, 8, 13, ...\n",
    " \n",
    " \n",
    " - 재귀함수란, 함수를 정의할 때, 정의하고자 하는 함수를 그 안에서 자기 자신을 불러내어 정의한 함수이다."
   ]
  },
  {
   "cell_type": "markdown",
   "metadata": {},
   "source": [
    "![figure](./figure/fig02.png)"
   ]
  },
  {
   "cell_type": "code",
   "execution_count": 2,
   "metadata": {},
   "outputs": [
    {
     "name": "stdout",
     "output_type": "stream",
     "text": [
      "== Fibonacci Sequence ==\n",
      "1  1  2  3  5  8  13  21  34  55  "
     ]
    }
   ],
   "source": [
    "# 재귀 함수를 이용한 피보나치 수열\n",
    "def Fibonacci(n) :\n",
    "    if n == 1 or n == 2 :     \n",
    "        return 1\n",
    "    else :\n",
    "        return Fibonacci(n-1) + Fibonacci(n-2)\n",
    "\n",
    "# 생성된 결과 출력\n",
    "for i in range(1,11,1) :     \n",
    "    if i == 1 : \n",
    "        print(\"== Fibonacci Sequence ==\")\n",
    "    print(\"{}\" .format(Fibonacci(i)), end=\"  \")"
   ]
  },
  {
   "cell_type": "markdown",
   "metadata": {},
   "source": [
    "# Gaussian Elimination"
   ]
  },
  {
   "cell_type": "markdown",
   "metadata": {},
   "source": [
    " - 가우스 소거법은 행렬의 연산을 이용하여, 연립 1차 방정식의 해를 구하는 방법이다.\n",
    " \n",
    " \n",
    " - 알고리즘의 핵심은, 기약행 사다리꼴 행렬을 만드는 것이다."
   ]
  },
  {
   "cell_type": "markdown",
   "metadata": {},
   "source": [
    "$$\n",
    "\\begin{pmatrix} \n",
    "   3 & 1 & -1 \\\\\n",
    "   1 & 4 & 1 \\\\\n",
    "   2 & 1 & 2\n",
    "\\end{pmatrix}\n",
    "\\begin{pmatrix} \n",
    "   x \\\\\n",
    "   y \\\\\n",
    "   z\n",
    "\\end{pmatrix}\n",
    "\\quad\n",
    " = \n",
    "\\quad\n",
    "\\begin{pmatrix} \n",
    "   2 \\\\\n",
    "   12 \\\\\n",
    "   10\n",
    "\\end{pmatrix}\n",
    "$$"
   ]
  },
  {
   "cell_type": "markdown",
   "metadata": {},
   "source": [
    "![figure](./figure/fig03.png)"
   ]
  },
  {
   "cell_type": "code",
   "execution_count": 3,
   "metadata": {},
   "outputs": [
    {
     "name": "stdout",
     "output_type": "stream",
     "text": [
      "x=1.0, y=2.0, z=3.0\n"
     ]
    }
   ],
   "source": [
    "A = [[3,1,-1],[1,4,1],[2,1,2]]\n",
    "B = [2,12,10]\n",
    "X = [0,0,0]\n",
    "N = 3\n",
    "\n",
    "# 행사다리꼴 만들기\n",
    "for i in range(N-1) :      \n",
    "    for k in range(i+1,N) :                      \n",
    "        piv = -A[k][i] / A[i][i]                 \n",
    "        for j in range(i+1,N) :                  \n",
    "            A[k][j] = A[k][j] + piv * A[i][j]    \n",
    "        B[k] = B[k] + piv * B[i]                 \n",
    "          \n",
    "# 기약행사다리꼴 행렬의 모양을 완성\n",
    "A[1][0], A[2][0], A[2][1] = 0, 0, 0              \n",
    "X[N-1] = B[N-1] / A[N-1][N-1]                   \n",
    "\n",
    "# 계산할 때는 역으로 밑에서부터 z를 계산하고, y를 계산하고,...\n",
    "for i in range(N-2, -1, -1) : \n",
    "    xsum = 0\n",
    "    for k in range(i+1, N) : \n",
    "        xsum = xsum + A[i][k] * X[k]\n",
    "    X[i] = (B[i] - xsum) / A[i][i]\n",
    "\n",
    "print(\"x={}, y={}, z={}\" .format(round(X[0],2), round(X[1],2), round(X[2],2)))"
   ]
  }
 ],
 "metadata": {
  "kernelspec": {
   "display_name": "Python 3",
   "language": "python",
   "name": "python3"
  },
  "language_info": {
   "codemirror_mode": {
    "name": "ipython",
    "version": 3
   },
   "file_extension": ".py",
   "mimetype": "text/x-python",
   "name": "python",
   "nbconvert_exporter": "python",
   "pygments_lexer": "ipython3",
   "version": "3.6.9"
  }
 },
 "nbformat": 4,
 "nbformat_minor": 2
}
