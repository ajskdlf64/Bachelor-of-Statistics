{
 "cells": [
  {
   "cell_type": "code",
   "execution_count": 1,
   "metadata": {},
   "outputs": [
    {
     "name": "stdout",
     "output_type": "stream",
     "text": [
      "Estimate of pi = 3.127 after 10000 iterations\n"
     ]
    },
    {
     "data": {
      "text/plain": [
       "array([[-4.77644023e+14, -3.28608454e+10, -6.33284797e+09],\n",
       "       [-3.28608454e+10, -9.24741673e+06, -5.25907133e+06],\n",
       "       [-6.33284797e+09, -5.25907133e+06, -9.30920101e+06]])"
      ]
     },
     "execution_count": 1,
     "metadata": {},
     "output_type": "execute_result"
    }
   ],
   "source": [
    "# 1번\n",
    "import numpy as np\n",
    "np.random.seed(1234)\n",
    "\n",
    "x = np.random.normal(170., 5.0, size=1000)    \n",
    "\n",
    "MAX_X = x[0]\n",
    "for i in range(1, len(x)):\n",
    "    if MAX_X < x[i]:\n",
    "        MAX_X = x[i]\n",
    "MAX_X\n",
    "\n",
    "\n",
    "\n",
    "\n",
    "\n",
    "# 2번\n",
    "import numpy as np\n",
    "np.random.seed(1234)\n",
    "\n",
    "def piEstimate (n):\n",
    "    \n",
    "    SUM = 0\n",
    "    x = np.random.uniform(low=0.0, high=1.0, size=n)\n",
    "    y= np.random.uniform(low=0.0, high=1.0, size=n)\n",
    "        \n",
    "    for i in range(n) : \n",
    "        if ((x[i]*x[i] + y[i]*y[i])**0.5) <= 1 : \n",
    "            SUM = SUM + 1\n",
    "    \n",
    "    ESIMATE_PI = 4 * (SUM / n)\n",
    "    \n",
    "    print(\"Estimate of pi = {:.3f} after {} iterations\" .format(ESIMATE_PI, n))\n",
    "    \n",
    "    return None\n",
    "\n",
    "piEstimate(10000)\n",
    "\n",
    "\n",
    "\n",
    "\n",
    "\n",
    "# 3번\n",
    "import pandas as pd\n",
    "data = pd.read_csv('./MLBattend.csv',sep=',',na_values=\".\")\n",
    "data.groupby(\"league\")[\"attendance\", \"runs.scored\", \"runs.allowed\"].mean()\n",
    "data.groupby(\"league\")[\"attendance\", \"runs.scored\", \"runs.allowed\"].corr()\n",
    "\n",
    "\n",
    "\n",
    "\n",
    "\n",
    "\n",
    "# 4 번\n",
    "import numpy as np\n",
    "X = np.array(data[['attendance', 'runs.scored', 'runs.allowed']])\n",
    "n, k  = X.shape         # n: number of observations, k: number of variables\n",
    "\n",
    "S = (1/n-1) * np.dot(np.dot(np.transpose(X),(np.eye(n) - (1/n)*np.ones(n))),X)\n",
    "S"
   ]
  },
  {
   "cell_type": "code",
   "execution_count": 2,
   "metadata": {},
   "outputs": [
    {
     "data": {
      "text/plain": [
       "183.81922039924783"
      ]
     },
     "execution_count": 2,
     "metadata": {},
     "output_type": "execute_result"
    }
   ],
   "source": [
    "# 1번\n",
    "import numpy as np\n",
    "np.random.seed(1234)\n",
    "\n",
    "x = np.random.normal(170., 5.0, size=1000)    \n",
    "\n",
    "MAX_X = x[0]\n",
    "for i in range(1, len(x)):\n",
    "    if MAX_X < x[i]:\n",
    "        MAX_X = x[i]\n",
    "MAX_X\n"
   ]
  },
  {
   "cell_type": "code",
   "execution_count": 3,
   "metadata": {},
   "outputs": [
    {
     "name": "stdout",
     "output_type": "stream",
     "text": [
      "Estimate of pi = 3.127 after 10000 iterations\n"
     ]
    }
   ],
   "source": [
    "# 2번\n",
    "import numpy as np\n",
    "np.random.seed(1234)\n",
    "\n",
    "def piEstimate (n):\n",
    "    \n",
    "    SUM = 0\n",
    "    x = np.random.uniform(low=0.0, high=1.0, size=n)\n",
    "    y= np.random.uniform(low=0.0, high=1.0, size=n)\n",
    "        \n",
    "    for i in range(n) : \n",
    "        if ((x[i]*x[i] + y[i]*y[i])**0.5) <= 1 : \n",
    "            SUM = SUM + 1\n",
    "    \n",
    "    ESIMATE_PI = 4 * (SUM / n)\n",
    "    \n",
    "    print(\"Estimate of pi = {:.3f} after {} iterations\" .format(ESIMATE_PI, n))\n",
    "    \n",
    "    return None\n",
    "\n",
    "piEstimate(10000)"
   ]
  },
  {
   "cell_type": "code",
   "execution_count": 4,
   "metadata": {},
   "outputs": [
    {
     "data": {
      "text/html": [
       "<div>\n",
       "<style scoped>\n",
       "    .dataframe tbody tr th:only-of-type {\n",
       "        vertical-align: middle;\n",
       "    }\n",
       "\n",
       "    .dataframe tbody tr th {\n",
       "        vertical-align: top;\n",
       "    }\n",
       "\n",
       "    .dataframe thead th {\n",
       "        text-align: right;\n",
       "    }\n",
       "</style>\n",
       "<table border=\"1\" class=\"dataframe\">\n",
       "  <thead>\n",
       "    <tr style=\"text-align: right;\">\n",
       "      <th></th>\n",
       "      <th>attendance</th>\n",
       "      <th>runs.scored</th>\n",
       "      <th>runs.allowed</th>\n",
       "    </tr>\n",
       "    <tr>\n",
       "      <th>league</th>\n",
       "      <th></th>\n",
       "      <th></th>\n",
       "      <th></th>\n",
       "    </tr>\n",
       "  </thead>\n",
       "  <tbody>\n",
       "    <tr>\n",
       "      <th>AL</th>\n",
       "      <td>1.716321e+06</td>\n",
       "      <td>713.293981</td>\n",
       "      <td>713.490741</td>\n",
       "    </tr>\n",
       "    <tr>\n",
       "      <th>NL</th>\n",
       "      <td>1.843617e+06</td>\n",
       "      <td>675.411330</td>\n",
       "      <td>675.100985</td>\n",
       "    </tr>\n",
       "  </tbody>\n",
       "</table>\n",
       "</div>"
      ],
      "text/plain": [
       "          attendance  runs.scored  runs.allowed\n",
       "league                                         \n",
       "AL      1.716321e+06   713.293981    713.490741\n",
       "NL      1.843617e+06   675.411330    675.100985"
      ]
     },
     "execution_count": 4,
     "metadata": {},
     "output_type": "execute_result"
    }
   ],
   "source": [
    "# 3번\n",
    "import pandas as pd\n",
    "data = pd.read_csv('./MLBattend.csv',sep=',',na_values=\".\")\n",
    "data.groupby(\"league\")[\"attendance\", \"runs.scored\", \"runs.allowed\"].mean()"
   ]
  },
  {
   "cell_type": "code",
   "execution_count": 5,
   "metadata": {},
   "outputs": [
    {
     "data": {
      "text/html": [
       "<div>\n",
       "<style scoped>\n",
       "    .dataframe tbody tr th:only-of-type {\n",
       "        vertical-align: middle;\n",
       "    }\n",
       "\n",
       "    .dataframe tbody tr th {\n",
       "        vertical-align: top;\n",
       "    }\n",
       "\n",
       "    .dataframe thead th {\n",
       "        text-align: right;\n",
       "    }\n",
       "</style>\n",
       "<table border=\"1\" class=\"dataframe\">\n",
       "  <thead>\n",
       "    <tr style=\"text-align: right;\">\n",
       "      <th></th>\n",
       "      <th></th>\n",
       "      <th>attendance</th>\n",
       "      <th>runs.scored</th>\n",
       "      <th>runs.allowed</th>\n",
       "    </tr>\n",
       "    <tr>\n",
       "      <th>league</th>\n",
       "      <th></th>\n",
       "      <th></th>\n",
       "      <th></th>\n",
       "      <th></th>\n",
       "    </tr>\n",
       "  </thead>\n",
       "  <tbody>\n",
       "    <tr>\n",
       "      <th rowspan=\"3\" valign=\"top\">AL</th>\n",
       "      <th>attendance</th>\n",
       "      <td>1.000000</td>\n",
       "      <td>0.554555</td>\n",
       "      <td>0.168597</td>\n",
       "    </tr>\n",
       "    <tr>\n",
       "      <th>runs.scored</th>\n",
       "      <td>0.554555</td>\n",
       "      <td>1.000000</td>\n",
       "      <td>0.561632</td>\n",
       "    </tr>\n",
       "    <tr>\n",
       "      <th>runs.allowed</th>\n",
       "      <td>0.168597</td>\n",
       "      <td>0.561632</td>\n",
       "      <td>1.000000</td>\n",
       "    </tr>\n",
       "    <tr>\n",
       "      <th rowspan=\"3\" valign=\"top\">NL</th>\n",
       "      <th>attendance</th>\n",
       "      <td>1.000000</td>\n",
       "      <td>0.482578</td>\n",
       "      <td>0.051004</td>\n",
       "    </tr>\n",
       "    <tr>\n",
       "      <th>runs.scored</th>\n",
       "      <td>0.482578</td>\n",
       "      <td>1.000000</td>\n",
       "      <td>0.540466</td>\n",
       "    </tr>\n",
       "    <tr>\n",
       "      <th>runs.allowed</th>\n",
       "      <td>0.051004</td>\n",
       "      <td>0.540466</td>\n",
       "      <td>1.000000</td>\n",
       "    </tr>\n",
       "  </tbody>\n",
       "</table>\n",
       "</div>"
      ],
      "text/plain": [
       "                     attendance  runs.scored  runs.allowed\n",
       "league                                                    \n",
       "AL     attendance      1.000000     0.554555      0.168597\n",
       "       runs.scored     0.554555     1.000000      0.561632\n",
       "       runs.allowed    0.168597     0.561632      1.000000\n",
       "NL     attendance      1.000000     0.482578      0.051004\n",
       "       runs.scored     0.482578     1.000000      0.540466\n",
       "       runs.allowed    0.051004     0.540466      1.000000"
      ]
     },
     "execution_count": 5,
     "metadata": {},
     "output_type": "execute_result"
    }
   ],
   "source": [
    "data.groupby(\"league\")[\"attendance\", \"runs.scored\", \"runs.allowed\"].corr()"
   ]
  },
  {
   "cell_type": "code",
   "execution_count": 7,
   "metadata": {},
   "outputs": [
    {
     "data": {
      "text/plain": [
       "array([[-4.77644023e+14, -3.28608454e+10, -6.33284797e+09],\n",
       "       [-3.28608454e+10, -9.24741673e+06, -5.25907133e+06],\n",
       "       [-6.33284797e+09, -5.25907133e+06, -9.30920101e+06]])"
      ]
     },
     "execution_count": 7,
     "metadata": {},
     "output_type": "execute_result"
    }
   ],
   "source": [
    " # 4 번\n",
    "import numpy as np\n",
    "X = np.array(data[['attendance', 'runs.scored', 'runs.allowed']])\n",
    "n, k  = X.shape         # n: number of observations, k: number of variables\n",
    "\n",
    "S = (1/n-1) * np.dot(np.dot(np.transpose(X),(np.eye(n) - (1/n)*np.ones(n))),X)\n",
    "S"
   ]
  }
 ],
 "metadata": {
  "kernelspec": {
   "display_name": "Python 3",
   "language": "python",
   "name": "python3"
  },
  "language_info": {
   "codemirror_mode": {
    "name": "ipython",
    "version": 3
   },
   "file_extension": ".py",
   "mimetype": "text/x-python",
   "name": "python",
   "nbconvert_exporter": "python",
   "pygments_lexer": "ipython3",
   "version": "3.6.9"
  }
 },
 "nbformat": 4,
 "nbformat_minor": 2
}
