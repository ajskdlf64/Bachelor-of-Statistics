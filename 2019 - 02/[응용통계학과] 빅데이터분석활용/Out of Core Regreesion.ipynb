{
 "cells": [
  {
   "cell_type": "markdown",
   "metadata": {},
   "source": [
    "# In Memory Regression"
   ]
  },
  {
   "cell_type": "code",
   "execution_count": 1,
   "metadata": {},
   "outputs": [
    {
     "name": "stdout",
     "output_type": "stream",
     "text": [
      "       variable       Estimate\n",
      "0     intercept -104229.182238\n",
      "1   runs.scored    2745.525726\n",
      "2          wins    2599.805807\n",
      "3  games.behind  -16036.985339\n"
     ]
    }
   ],
   "source": [
    "import pandas as pd\n",
    "import numpy as np\n",
    "\n",
    "def reg(pdDFrame, dependent) :                # Input : 데이터프레임. 반응변수 지정\n",
    "    \n",
    "    varName = pdDFrame.keys()                 # 변수명 추출\n",
    "    y = pdDFrame[dependent].to_numpy()        # 반응변수를 np.array 형태로 변경\n",
    "\n",
    "    xName = varName[varName != dependent]     # 반응변수를 제외한 독립변수 지정  \n",
    "    X = pdDFrame[xName].to_numpy()            # 독립변수를 np.array 형태로 변경\n",
    "    \n",
    "    n, k = X.shape                            # n : 데이터 개수, k : 독립변수 개수\n",
    "    \n",
    "    intercept = np.ones((n,1))                # (n,1) 형태의 절편 생성\n",
    "    X = np.append(intercept, X, axis=1)       # 독립변수에 절편이 있는 모형으로 추가\n",
    "    \n",
    "    xName = xName.insert(0, 'intercept')      # 절편에 변수명을 부여  \n",
    "    \n",
    "    XpX = X.T.dot(X)                          # X'X matrix\n",
    "    XpXInv = np.linalg.inv(XpX)               # (X'X)^{-1} : inverse matrix of X'X\n",
    "    Xpy = X.T.dot(y)                          # X'y\n",
    "    \n",
    "    parm = XpXInv.dot(Xpy)                    # B = (X'X)^{-1} X'y\n",
    "    \n",
    "    return (pd.DataFrame({\"variable\": xName, \"Estimate\": parm}))\n",
    "\n",
    "data = pd.read_csv(\"./MLB.csv\", sep=',', na_values=\".\", encoding='utf-8')\n",
    "print(reg(data,\"attendance\"))"
   ]
  },
  {
   "cell_type": "markdown",
   "metadata": {},
   "source": [
    "# Scikit-Learn Regression"
   ]
  },
  {
   "cell_type": "code",
   "execution_count": 2,
   "metadata": {},
   "outputs": [
    {
     "name": "stdout",
     "output_type": "stream",
     "text": [
      "       variable       Estimate\n",
      "0     intercept -104229.182238\n",
      "0   runs.scored    2745.525726\n",
      "1          wins    2599.805807\n",
      "2  games.behind  -16036.985339\n"
     ]
    }
   ],
   "source": [
    "import pandas as pd\n",
    "from sklearn.linear_model import LinearRegression\n",
    "\n",
    "# Data Loading\n",
    "data = pd.read_csv(\"./MLB.csv\", sep=',', na_values=\".\", encoding='utf-8')\n",
    "\n",
    "def sklearn_reg(pdDFrame, dependent) : \n",
    "\n",
    "    # Traget and Input Variable setting\n",
    "    X = pdDFrame[pdDFrame.columns[:-1]]\n",
    "    y = pdDFrame[dependent]\n",
    "    \n",
    "    # Regression Fitting\n",
    "    reg = LinearRegression().fit(X, y)\n",
    "    \n",
    "    # Estimator\n",
    "    xName = pdDFrame.columns[:-1]\n",
    "    coef = pd.DataFrame({\"variable\": xName, \"Estimate\": reg.coef_})\n",
    "    intercept = pd.DataFrame({\"variable\": [\"intercept\"], \"Estimate\": reg.intercept_})\n",
    "    \n",
    "    return (pd.concat([intercept, coef]))\n",
    "\n",
    "data = pd.read_csv(\"./MLB.csv\", sep=',', na_values=\".\", encoding='utf-8')\n",
    "print(sklearn_reg(data,\"attendance\"))"
   ]
  },
  {
   "cell_type": "markdown",
   "metadata": {},
   "source": [
    "# Out of Core Regression"
   ]
  },
  {
   "cell_type": "code",
   "execution_count": 3,
   "metadata": {
    "scrolled": false
   },
   "outputs": [
    {
     "data": {
      "text/plain": [
       "0"
      ]
     },
     "execution_count": 3,
     "metadata": {},
     "output_type": "execute_result"
    }
   ],
   "source": [
    "import pandas as pd\n",
    "import numpy as np\n",
    "import csv\n",
    "\n",
    "def outofCore_Stat(file, dependent):\n",
    "    \n",
    "    f = open(file, \"r\", encoding = \"utf-8\")            \n",
    "    rdr = csv.reader(f)\n",
    "    varNames = np.array(next(rdr))   \n",
    "\n",
    "    idxY = np.where(varNames == dependent)\n",
    "    idxX = np.where(varNames != dependent)\n",
    "\n",
    "    xNames = varNames[idxX]\n",
    "    xNames = np.append(\"indercept\", xNames)\n",
    "    \n",
    "    k = len(xNames)\n",
    "    \n",
    "    xpx = np.zeros((k,k))\n",
    "    xpy = np.zeros(k)\n",
    "    \n",
    "    f.close()                                          \n",
    "\n",
    "    return 0\n",
    "\n",
    "file = \"./MLB.csv\"\n",
    "outofCore_Stat(file, \"attendance\")"
   ]
  }
 ],
 "metadata": {
  "kernelspec": {
   "display_name": "Python 3",
   "language": "python",
   "name": "python3"
  },
  "language_info": {
   "codemirror_mode": {
    "name": "ipython",
    "version": 3
   },
   "file_extension": ".py",
   "mimetype": "text/x-python",
   "name": "python",
   "nbconvert_exporter": "python",
   "pygments_lexer": "ipython3",
   "version": "3.6.9"
  }
 },
 "nbformat": 4,
 "nbformat_minor": 2
}
