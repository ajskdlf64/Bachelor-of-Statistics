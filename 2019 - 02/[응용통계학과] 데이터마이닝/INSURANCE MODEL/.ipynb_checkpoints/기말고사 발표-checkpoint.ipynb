{
 "cells": [
  {
   "cell_type": "markdown",
   "metadata": {},
   "source": [
    "# 1. Library"
   ]
  },
  {
   "cell_type": "code",
   "execution_count": 1,
   "metadata": {},
   "outputs": [
    {
     "name": "stderr",
     "output_type": "stream",
     "text": [
      "Registered S3 methods overwritten by 'ggplot2':\n",
      "  method         from \n",
      "  [.quosures     rlang\n",
      "  c.quosures     rlang\n",
      "  print.quosures rlang\n",
      "Registered S3 method overwritten by 'rvest':\n",
      "  method            from\n",
      "  read_xml.response xml2\n",
      "-- Attaching packages --------------------------------------- tidyverse 1.2.1 --\n",
      "√ ggplot2 3.1.1       √ purrr   0.3.2  \n",
      "√ tibble  2.1.1       √ dplyr   0.8.0.1\n",
      "√ tidyr   0.8.3       √ stringr 1.4.0  \n",
      "√ readr   1.3.1       √ forcats 0.4.0  \n",
      "-- Conflicts ------------------------------------------ tidyverse_conflicts() --\n",
      "x dplyr::filter() masks stats::filter()\n",
      "x dplyr::lag()    masks stats::lag()\n"
     ]
    }
   ],
   "source": [
    "library(tidyverse)"
   ]
  },
  {
   "cell_type": "markdown",
   "metadata": {},
   "source": [
    "# 2. Data Loading"
   ]
  },
  {
   "cell_type": "code",
   "execution_count": 2,
   "metadata": {},
   "outputs": [],
   "source": [
    "cust <- read.csv(\"./01. data/BGCON_CUST_DATA.csv\", fileEncoding = \"UTF-16\")\n",
    "cntt <- read.csv(\"./01. data/BGCON_CNTT_DATA.csv\", fileEncoding = \"UTF-16\")\n",
    "claim <- read.csv(\"./01. data/BGCON_CLAIM_DATA.csv\", fileEncoding = \"UTF-16\")"
   ]
  },
  {
   "cell_type": "code",
   "execution_count": 3,
   "metadata": {},
   "outputs": [],
   "source": [
    "cust <- filter(cust, DIVIDED_SET == 1)\n",
    "cust_te <- filter(cust, DIVIDED_SET == 2)"
   ]
  },
  {
   "cell_type": "code",
   "execution_count": 4,
   "metadata": {},
   "outputs": [],
   "source": [
    "claim <- arrange(claim, CUST_ID)"
   ]
  },
  {
   "cell_type": "code",
   "execution_count": 5,
   "metadata": {
    "scrolled": true
   },
   "outputs": [
    {
     "data": {
      "text/html": [
       "<table>\n",
       "<thead><tr><th scope=col>CUST_ID</th><th scope=col>DIVIDED_SET</th><th scope=col>SIU_CUST_YN</th><th scope=col>SEX</th><th scope=col>AGE</th><th scope=col>RESI_COST</th><th scope=col>RESI_TYPE_CODE</th><th scope=col>FP_CAREER</th><th scope=col>CUST_RGST</th><th scope=col>CTPR</th><th scope=col>...</th><th scope=col>WEDD_YN</th><th scope=col>MATE_OCCP_GRP_1</th><th scope=col>MATE_OCCP_GRP_2</th><th scope=col>CHLD_CNT</th><th scope=col>LTBN_CHLD_AGE</th><th scope=col>MAX_PAYM_YM</th><th scope=col>MAX_PRM</th><th scope=col>CUST_INCM</th><th scope=col>RCBASE_HSHD_INCM</th><th scope=col>JPBASE_HSHD_INCM</th></tr></thead>\n",
       "<tbody>\n",
       "\t<tr><td>1             </td><td>1             </td><td>N             </td><td>2             </td><td>47            </td><td>21111         </td><td>20            </td><td>N             </td><td>199910        </td><td>충북          </td><td>...           </td><td>Y             </td><td>3.사무직      </td><td>2차산업 종사자</td><td>2             </td><td>13            </td><td>200811        </td><td> 319718       </td><td>4879          </td><td>10094         </td><td>11337         </td></tr>\n",
       "\t<tr><td>2             </td><td>1             </td><td>N             </td><td>1             </td><td>53            </td><td>40000         </td><td>20            </td><td>N             </td><td>199910        </td><td>서울          </td><td>...           </td><td>Y             </td><td>1.주부        </td><td>주부          </td><td>2             </td><td>17            </td><td>200012        </td><td> 341341       </td><td>6509          </td><td> 9143         </td><td> 6509         </td></tr>\n",
       "\t<tr><td>3             </td><td>1             </td><td>N             </td><td>1             </td><td>60            </td><td>    0         </td><td>NA            </td><td>N             </td><td>199910        </td><td>서울          </td><td>...           </td><td>N             </td><td>              </td><td>              </td><td>0             </td><td> 0            </td><td>200305        </td><td> 131300       </td><td>4180          </td><td>    0         </td><td> 4180         </td></tr>\n",
       "\t<tr><td>4             </td><td>1             </td><td>N             </td><td>2             </td><td>64            </td><td>12861         </td><td>40            </td><td>Y             </td><td>199910        </td><td>경기          </td><td>...           </td><td>N             </td><td>              </td><td>              </td><td>0             </td><td> 0            </td><td>201009        </td><td>1493184       </td><td>  NA          </td><td> 4270         </td><td> 5914         </td></tr>\n",
       "\t<tr><td>5             </td><td>1             </td><td>N             </td><td>2             </td><td>54            </td><td>    0         </td><td>NA            </td><td>Y             </td><td>199910        </td><td>광주          </td><td>...           </td><td>Y             </td><td>3.사무직      </td><td>고위 공무원   </td><td>3             </td><td>19            </td><td>200807        </td><td> 166760       </td><td>3894          </td><td>    0         </td><td> 8885         </td></tr>\n",
       "\t<tr><td>6             </td><td>1             </td><td>N             </td><td>1             </td><td>62            </td><td> 6218         </td><td>99            </td><td>N             </td><td>199910        </td><td>충남          </td><td>...           </td><td>Y             </td><td>1.주부        </td><td>주부          </td><td>1             </td><td>34            </td><td>201606        </td><td>  82850       </td><td>  NA          </td><td>    0         </td><td> 6449         </td></tr>\n",
       "</tbody>\n",
       "</table>\n"
      ],
      "text/latex": [
       "\\begin{tabular}{r|lllllllllllllllllllllllll}\n",
       " CUST\\_ID & DIVIDED\\_SET & SIU\\_CUST\\_YN & SEX & AGE & RESI\\_COST & RESI\\_TYPE\\_CODE & FP\\_CAREER & CUST\\_RGST & CTPR & ... & WEDD\\_YN & MATE\\_OCCP\\_GRP\\_1 & MATE\\_OCCP\\_GRP\\_2 & CHLD\\_CNT & LTBN\\_CHLD\\_AGE & MAX\\_PAYM\\_YM & MAX\\_PRM & CUST\\_INCM & RCBASE\\_HSHD\\_INCM & JPBASE\\_HSHD\\_INCM\\\\\n",
       "\\hline\n",
       "\t 1              & 1              & N              & 2              & 47             & 21111          & 20             & N              & 199910         & 충북           & ...            & Y              & 3.사무직       & 2차산업 종사자 & 2              & 13             & 200811         &  319718        & 4879           & 10094          & 11337         \\\\\n",
       "\t 2              & 1              & N              & 1              & 53             & 40000          & 20             & N              & 199910         & 서울           & ...            & Y              & 1.주부         & 주부           & 2              & 17             & 200012         &  341341        & 6509           &  9143          &  6509         \\\\\n",
       "\t 3              & 1              & N              & 1              & 60             &     0          & NA             & N              & 199910         & 서울           & ...            & N              &                &                & 0              &  0             & 200305         &  131300        & 4180           &     0          &  4180         \\\\\n",
       "\t 4              & 1              & N              & 2              & 64             & 12861          & 40             & Y              & 199910         & 경기           & ...            & N              &                &                & 0              &  0             & 201009         & 1493184        &   NA           &  4270          &  5914         \\\\\n",
       "\t 5              & 1              & N              & 2              & 54             &     0          & NA             & Y              & 199910         & 광주           & ...            & Y              & 3.사무직       & 고위 공무원    & 3              & 19             & 200807         &  166760        & 3894           &     0          &  8885         \\\\\n",
       "\t 6              & 1              & N              & 1              & 62             &  6218          & 99             & N              & 199910         & 충남           & ...            & Y              & 1.주부         & 주부           & 1              & 34             & 201606         &   82850        &   NA           &     0          &  6449         \\\\\n",
       "\\end{tabular}\n"
      ],
      "text/markdown": [
       "\n",
       "| CUST_ID | DIVIDED_SET | SIU_CUST_YN | SEX | AGE | RESI_COST | RESI_TYPE_CODE | FP_CAREER | CUST_RGST | CTPR | ... | WEDD_YN | MATE_OCCP_GRP_1 | MATE_OCCP_GRP_2 | CHLD_CNT | LTBN_CHLD_AGE | MAX_PAYM_YM | MAX_PRM | CUST_INCM | RCBASE_HSHD_INCM | JPBASE_HSHD_INCM |\n",
       "|---|---|---|---|---|---|---|---|---|---|---|---|---|---|---|---|---|---|---|---|---|\n",
       "| 1              | 1              | N              | 2              | 47             | 21111          | 20             | N              | 199910         | 충북           | ...            | Y              | 3.사무직       | 2차산업 종사자 | 2              | 13             | 200811         |  319718        | 4879           | 10094          | 11337          |\n",
       "| 2              | 1              | N              | 1              | 53             | 40000          | 20             | N              | 199910         | 서울           | ...            | Y              | 1.주부         | 주부           | 2              | 17             | 200012         |  341341        | 6509           |  9143          |  6509          |\n",
       "| 3              | 1              | N              | 1              | 60             |     0          | NA             | N              | 199910         | 서울           | ...            | N              |                |                | 0              |  0             | 200305         |  131300        | 4180           |     0          |  4180          |\n",
       "| 4              | 1              | N              | 2              | 64             | 12861          | 40             | Y              | 199910         | 경기           | ...            | N              |                |                | 0              |  0             | 201009         | 1493184        |   NA           |  4270          |  5914          |\n",
       "| 5              | 1              | N              | 2              | 54             |     0          | NA             | Y              | 199910         | 광주           | ...            | Y              | 3.사무직       | 고위 공무원    | 3              | 19             | 200807         |  166760        | 3894           |     0          |  8885          |\n",
       "| 6              | 1              | N              | 1              | 62             |  6218          | 99             | N              | 199910         | 충남           | ...            | Y              | 1.주부         | 주부           | 1              | 34             | 201606         |   82850        |   NA           |     0          |  6449          |\n",
       "\n"
      ],
      "text/plain": [
       "  CUST_ID DIVIDED_SET SIU_CUST_YN SEX AGE RESI_COST RESI_TYPE_CODE FP_CAREER\n",
       "1 1       1           N           2   47  21111     20             N        \n",
       "2 2       1           N           1   53  40000     20             N        \n",
       "3 3       1           N           1   60      0     NA             N        \n",
       "4 4       1           N           2   64  12861     40             Y        \n",
       "5 5       1           N           2   54      0     NA             Y        \n",
       "6 6       1           N           1   62   6218     99             N        \n",
       "  CUST_RGST CTPR ... WEDD_YN MATE_OCCP_GRP_1 MATE_OCCP_GRP_2 CHLD_CNT\n",
       "1 199910    충북 ... Y       3.사무직        2차산업 종사자  2       \n",
       "2 199910    서울 ... Y       1.주부          주부            2       \n",
       "3 199910    서울 ... N                                       0       \n",
       "4 199910    경기 ... N                                       0       \n",
       "5 199910    광주 ... Y       3.사무직        고위 공무원     3       \n",
       "6 199910    충남 ... Y       1.주부          주부            1       \n",
       "  LTBN_CHLD_AGE MAX_PAYM_YM MAX_PRM CUST_INCM RCBASE_HSHD_INCM JPBASE_HSHD_INCM\n",
       "1 13            200811       319718 4879      10094            11337           \n",
       "2 17            200012       341341 6509       9143             6509           \n",
       "3  0            200305       131300 4180          0             4180           \n",
       "4  0            201009      1493184   NA       4270             5914           \n",
       "5 19            200807       166760 3894          0             8885           \n",
       "6 34            201606        82850   NA          0             6449           "
      ]
     },
     "metadata": {},
     "output_type": "display_data"
    }
   ],
   "source": [
    "head(cust)"
   ]
  },
  {
   "cell_type": "code",
   "execution_count": 6,
   "metadata": {},
   "outputs": [
    {
     "data": {
      "text/html": [
       "<table>\n",
       "<thead><tr><th scope=col>CUST_ID</th><th scope=col>POLY_NO</th><th scope=col>ACCI_OCCP_GRP1</th><th scope=col>ACCI_OCCP_GRP2</th><th scope=col>CHANG_FP_YN</th><th scope=col>CNTT_RECP_SQNO</th><th scope=col>RECP_DATE</th><th scope=col>ORIG_RESN_DATE</th><th scope=col>RESN_DATE</th><th scope=col>CRNT_PROG_DVSN</th><th scope=col>...</th><th scope=col>PMMI_DLNG_YN</th><th scope=col>SELF_CHAM</th><th scope=col>NON_PAY</th><th scope=col>TAMT_SFCA</th><th scope=col>PATT_CHRG_TOTA</th><th scope=col>DSCT_AMT</th><th scope=col>COUNT_TRMT_ITEM</th><th scope=col>DCAF_CMPS_XCPA</th><th scope=col>NON_PAY_RATIO</th><th scope=col>HEED_HOSP_YN</th></tr></thead>\n",
       "<tbody>\n",
       "\t<tr><td>1           </td><td> 31077      </td><td>3.사무직    </td><td>사무직      </td><td>Y           </td><td>2.013041e+12</td><td>20130408    </td><td>20130309    </td><td>20130309    </td><td>23          </td><td>...         </td><td>Y           </td><td>46687       </td><td> 35857      </td><td>0           </td><td> 82544      </td><td> 94         </td><td>2           </td><td>NA          </td><td>0.4343986   </td><td>N           </td></tr>\n",
       "\t<tr><td>1           </td><td> 31077      </td><td>3.사무직    </td><td>사무직      </td><td>Y           </td><td>2.014103e+12</td><td>20141030    </td><td>20140123    </td><td>20141030    </td><td>23          </td><td>...         </td><td>Y           </td><td> 4000       </td><td> 30000      </td><td>0           </td><td> 34000      </td><td>  0         </td><td>1           </td><td>NA          </td><td>0.8823529   </td><td>N           </td></tr>\n",
       "\t<tr><td>1           </td><td> 31077      </td><td>3.사무직    </td><td>사무직      </td><td>Y           </td><td>2.015031e+12</td><td>20150310    </td><td>20140123    </td><td>20150307    </td><td>23          </td><td>...         </td><td>Y           </td><td> 7500       </td><td> 20000      </td><td>0           </td><td> 27500      </td><td>  0         </td><td>1           </td><td>NA          </td><td>0.7272727   </td><td>N           </td></tr>\n",
       "\t<tr><td>1           </td><td> 31077      </td><td>3.사무직    </td><td>사무직      </td><td>Y           </td><td>2.014013e+12</td><td>20140127    </td><td>20140123    </td><td>20140123    </td><td>23          </td><td>...         </td><td>Y           </td><td> 4500       </td><td> 53000      </td><td>0           </td><td> 57500      </td><td>  0         </td><td>1           </td><td>NA          </td><td>0.9217391   </td><td>N           </td></tr>\n",
       "\t<tr><td>2           </td><td>110327      </td><td>            </td><td>            </td><td>Y           </td><td>2.015042e+12</td><td>20150424    </td><td>20150418    </td><td>20150418    </td><td>23          </td><td>...         </td><td>Y           </td><td>29378       </td><td>184000      </td><td>0           </td><td>213378      </td><td>178         </td><td>1           </td><td>NA          </td><td>0.8623195   </td><td>N           </td></tr>\n",
       "\t<tr><td>2           </td><td>110327      </td><td>            </td><td>            </td><td>Y           </td><td>2.215042e+12</td><td>20150424    </td><td>20150418    </td><td>20150418    </td><td>23          </td><td>...         </td><td>Y           </td><td>29378       </td><td>184000      </td><td>0           </td><td>213378      </td><td>178         </td><td>1           </td><td>NA          </td><td>0.8623195   </td><td>N           </td></tr>\n",
       "</tbody>\n",
       "</table>\n"
      ],
      "text/latex": [
       "\\begin{tabular}{r|lllllllllllllllllllllllllllllllllllllll}\n",
       " CUST\\_ID & POLY\\_NO & ACCI\\_OCCP\\_GRP1 & ACCI\\_OCCP\\_GRP2 & CHANG\\_FP\\_YN & CNTT\\_RECP\\_SQNO & RECP\\_DATE & ORIG\\_RESN\\_DATE & RESN\\_DATE & CRNT\\_PROG\\_DVSN & ... & PMMI\\_DLNG\\_YN & SELF\\_CHAM & NON\\_PAY & TAMT\\_SFCA & PATT\\_CHRG\\_TOTA & DSCT\\_AMT & COUNT\\_TRMT\\_ITEM & DCAF\\_CMPS\\_XCPA & NON\\_PAY\\_RATIO & HEED\\_HOSP\\_YN\\\\\n",
       "\\hline\n",
       "\t 1            &  31077       & 3.사무직     & 사무직       & Y            & 2.013041e+12 & 20130408     & 20130309     & 20130309     & 23           & ...          & Y            & 46687        &  35857       & 0            &  82544       &  94          & 2            & NA           & 0.4343986    & N           \\\\\n",
       "\t 1            &  31077       & 3.사무직     & 사무직       & Y            & 2.014103e+12 & 20141030     & 20140123     & 20141030     & 23           & ...          & Y            &  4000        &  30000       & 0            &  34000       &   0          & 1            & NA           & 0.8823529    & N           \\\\\n",
       "\t 1            &  31077       & 3.사무직     & 사무직       & Y            & 2.015031e+12 & 20150310     & 20140123     & 20150307     & 23           & ...          & Y            &  7500        &  20000       & 0            &  27500       &   0          & 1            & NA           & 0.7272727    & N           \\\\\n",
       "\t 1            &  31077       & 3.사무직     & 사무직       & Y            & 2.014013e+12 & 20140127     & 20140123     & 20140123     & 23           & ...          & Y            &  4500        &  53000       & 0            &  57500       &   0          & 1            & NA           & 0.9217391    & N           \\\\\n",
       "\t 2            & 110327       &              &              & Y            & 2.015042e+12 & 20150424     & 20150418     & 20150418     & 23           & ...          & Y            & 29378        & 184000       & 0            & 213378       & 178          & 1            & NA           & 0.8623195    & N           \\\\\n",
       "\t 2            & 110327       &              &              & Y            & 2.215042e+12 & 20150424     & 20150418     & 20150418     & 23           & ...          & Y            & 29378        & 184000       & 0            & 213378       & 178          & 1            & NA           & 0.8623195    & N           \\\\\n",
       "\\end{tabular}\n"
      ],
      "text/markdown": [
       "\n",
       "| CUST_ID | POLY_NO | ACCI_OCCP_GRP1 | ACCI_OCCP_GRP2 | CHANG_FP_YN | CNTT_RECP_SQNO | RECP_DATE | ORIG_RESN_DATE | RESN_DATE | CRNT_PROG_DVSN | ... | PMMI_DLNG_YN | SELF_CHAM | NON_PAY | TAMT_SFCA | PATT_CHRG_TOTA | DSCT_AMT | COUNT_TRMT_ITEM | DCAF_CMPS_XCPA | NON_PAY_RATIO | HEED_HOSP_YN |\n",
       "|---|---|---|---|---|---|---|---|---|---|---|---|---|---|---|---|---|---|---|---|---|\n",
       "| 1            |  31077       | 3.사무직     | 사무직       | Y            | 2.013041e+12 | 20130408     | 20130309     | 20130309     | 23           | ...          | Y            | 46687        |  35857       | 0            |  82544       |  94          | 2            | NA           | 0.4343986    | N            |\n",
       "| 1            |  31077       | 3.사무직     | 사무직       | Y            | 2.014103e+12 | 20141030     | 20140123     | 20141030     | 23           | ...          | Y            |  4000        |  30000       | 0            |  34000       |   0          | 1            | NA           | 0.8823529    | N            |\n",
       "| 1            |  31077       | 3.사무직     | 사무직       | Y            | 2.015031e+12 | 20150310     | 20140123     | 20150307     | 23           | ...          | Y            |  7500        |  20000       | 0            |  27500       |   0          | 1            | NA           | 0.7272727    | N            |\n",
       "| 1            |  31077       | 3.사무직     | 사무직       | Y            | 2.014013e+12 | 20140127     | 20140123     | 20140123     | 23           | ...          | Y            |  4500        |  53000       | 0            |  57500       |   0          | 1            | NA           | 0.9217391    | N            |\n",
       "| 2            | 110327       |              |              | Y            | 2.015042e+12 | 20150424     | 20150418     | 20150418     | 23           | ...          | Y            | 29378        | 184000       | 0            | 213378       | 178          | 1            | NA           | 0.8623195    | N            |\n",
       "| 2            | 110327       |              |              | Y            | 2.215042e+12 | 20150424     | 20150418     | 20150418     | 23           | ...          | Y            | 29378        | 184000       | 0            | 213378       | 178          | 1            | NA           | 0.8623195    | N            |\n",
       "\n"
      ],
      "text/plain": [
       "  CUST_ID POLY_NO ACCI_OCCP_GRP1 ACCI_OCCP_GRP2 CHANG_FP_YN CNTT_RECP_SQNO\n",
       "1 1        31077  3.사무직       사무직         Y           2.013041e+12  \n",
       "2 1        31077  3.사무직       사무직         Y           2.014103e+12  \n",
       "3 1        31077  3.사무직       사무직         Y           2.015031e+12  \n",
       "4 1        31077  3.사무직       사무직         Y           2.014013e+12  \n",
       "5 2       110327                                Y           2.015042e+12  \n",
       "6 2       110327                                Y           2.215042e+12  \n",
       "  RECP_DATE ORIG_RESN_DATE RESN_DATE CRNT_PROG_DVSN ... PMMI_DLNG_YN SELF_CHAM\n",
       "1 20130408  20130309       20130309  23             ... Y            46687    \n",
       "2 20141030  20140123       20141030  23             ... Y             4000    \n",
       "3 20150310  20140123       20150307  23             ... Y             7500    \n",
       "4 20140127  20140123       20140123  23             ... Y             4500    \n",
       "5 20150424  20150418       20150418  23             ... Y            29378    \n",
       "6 20150424  20150418       20150418  23             ... Y            29378    \n",
       "  NON_PAY TAMT_SFCA PATT_CHRG_TOTA DSCT_AMT COUNT_TRMT_ITEM DCAF_CMPS_XCPA\n",
       "1  35857  0          82544          94      2               NA            \n",
       "2  30000  0          34000           0      1               NA            \n",
       "3  20000  0          27500           0      1               NA            \n",
       "4  53000  0          57500           0      1               NA            \n",
       "5 184000  0         213378         178      1               NA            \n",
       "6 184000  0         213378         178      1               NA            \n",
       "  NON_PAY_RATIO HEED_HOSP_YN\n",
       "1 0.4343986     N           \n",
       "2 0.8823529     N           \n",
       "3 0.7272727     N           \n",
       "4 0.9217391     N           \n",
       "5 0.8623195     N           \n",
       "6 0.8623195     N           "
      ]
     },
     "metadata": {},
     "output_type": "display_data"
    }
   ],
   "source": [
    "head(claim)"
   ]
  },
  {
   "cell_type": "markdown",
   "metadata": {},
   "source": [
    "# 3. Data Setting"
   ]
  },
  {
   "cell_type": "code",
   "execution_count": 7,
   "metadata": {},
   "outputs": [],
   "source": [
    "data <- select(cust, CUST_ID, SIU_CUST_YN)"
   ]
  },
  {
   "cell_type": "markdown",
   "metadata": {},
   "source": [
    "# 4. Claim Count"
   ]
  },
  {
   "cell_type": "code",
   "execution_count": 8,
   "metadata": {},
   "outputs": [],
   "source": [
    "claim_count <- claim %>% group_by(CUST_ID) %>% summarise(CLAIM_COUNT = n())\n",
    "data <- merge(data, claim_count, key=\"CUST_ID\")"
   ]
  },
  {
   "cell_type": "code",
   "execution_count": 9,
   "metadata": {},
   "outputs": [
    {
     "data": {
      "text/html": [
       "<table>\n",
       "<thead><tr><th scope=col>CUST_ID</th><th scope=col>SIU_CUST_YN</th><th scope=col>CLAIM_COUNT</th></tr></thead>\n",
       "<tbody>\n",
       "\t<tr><td>1</td><td>N</td><td>4</td></tr>\n",
       "\t<tr><td>2</td><td>N</td><td>3</td></tr>\n",
       "\t<tr><td>3</td><td>N</td><td>1</td></tr>\n",
       "\t<tr><td>4</td><td>N</td><td>9</td></tr>\n",
       "\t<tr><td>5</td><td>N</td><td>1</td></tr>\n",
       "\t<tr><td>6</td><td>N</td><td>3</td></tr>\n",
       "</tbody>\n",
       "</table>\n"
      ],
      "text/latex": [
       "\\begin{tabular}{r|lll}\n",
       " CUST\\_ID & SIU\\_CUST\\_YN & CLAIM\\_COUNT\\\\\n",
       "\\hline\n",
       "\t 1 & N & 4\\\\\n",
       "\t 2 & N & 3\\\\\n",
       "\t 3 & N & 1\\\\\n",
       "\t 4 & N & 9\\\\\n",
       "\t 5 & N & 1\\\\\n",
       "\t 6 & N & 3\\\\\n",
       "\\end{tabular}\n"
      ],
      "text/markdown": [
       "\n",
       "| CUST_ID | SIU_CUST_YN | CLAIM_COUNT |\n",
       "|---|---|---|\n",
       "| 1 | N | 4 |\n",
       "| 2 | N | 3 |\n",
       "| 3 | N | 1 |\n",
       "| 4 | N | 9 |\n",
       "| 5 | N | 1 |\n",
       "| 6 | N | 3 |\n",
       "\n"
      ],
      "text/plain": [
       "  CUST_ID SIU_CUST_YN CLAIM_COUNT\n",
       "1 1       N           4          \n",
       "2 2       N           3          \n",
       "3 3       N           1          \n",
       "4 4       N           9          \n",
       "5 5       N           1          \n",
       "6 6       N           3          "
      ]
     },
     "metadata": {},
     "output_type": "display_data"
    }
   ],
   "source": [
    "head(data)"
   ]
  },
  {
   "cell_type": "code",
   "execution_count": 10,
   "metadata": {},
   "outputs": [
    {
     "data": {
      "image/png": "[encoded data removed]",
      "text/plain": [
       "plot without title"
      ]
     },
     "metadata": {},
     "output_type": "display_data"
    }
   ],
   "source": [
    "data %>% ggplot(aes(x=CLAIM_COUNT, fill=SIU_CUST_YN)) + geom_histogram(bins = 30) + \n",
    "labs(fill = \"보험 사기 유무\", x = \"보험 청구 건수\", y = \"고객 수\")"
   ]
  }
 ],
 "metadata": {
  "kernelspec": {
   "display_name": "R",
   "language": "R",
   "name": "ir"
  },
  "language_info": {
   "codemirror_mode": "r",
   "file_extension": ".r",
   "mimetype": "text/x-r-source",
   "name": "R",
   "pygments_lexer": "r",
   "version": "3.6.1"
  }
 },
 "nbformat": 4,
 "nbformat_minor": 2
}
