{
 "cells": [
  {
   "cell_type": "markdown",
   "metadata": {},
   "source": [
    "# 1. Library"
   ]
  },
  {
   "cell_type": "code",
   "execution_count": 1,
   "metadata": {},
   "outputs": [
    {
     "name": "stderr",
     "output_type": "stream",
     "text": [
      "Registered S3 methods overwritten by 'ggplot2':\n",
      "  method         from \n",
      "  [.quosures     rlang\n",
      "  c.quosures     rlang\n",
      "  print.quosures rlang\n",
      "Registered S3 method overwritten by 'rvest':\n",
      "  method            from\n",
      "  read_xml.response xml2\n",
      "-- Attaching packages --------------------------------------- tidyverse 1.2.1 --\n",
      "√ ggplot2 3.1.1       √ purrr   0.3.2  \n",
      "√ tibble  2.1.1       √ dplyr   0.8.0.1\n",
      "√ tidyr   0.8.3       √ stringr 1.4.0  \n",
      "√ readr   1.3.1       √ forcats 0.4.0  \n",
      "-- Conflicts ------------------------------------------ tidyverse_conflicts() --\n",
      "x dplyr::filter() masks stats::filter()\n",
      "x dplyr::lag()    masks stats::lag()\n"
     ]
    }
   ],
   "source": [
    "library(tidyverse)"
   ]
  },
  {
   "cell_type": "markdown",
   "metadata": {},
   "source": [
    "# 2. Data Loading"
   ]
  },
  {
   "cell_type": "code",
   "execution_count": 2,
   "metadata": {},
   "outputs": [],
   "source": [
    "cust <- read.csv(\"./01. data/BGCON_CUST_DATA.csv\", fileEncoding = \"UTF-16\")\n",
    "cntt <- read.csv(\"./01. data/BGCON_CNTT_DATA.csv\", fileEncoding = \"UTF-16\")\n",
    "claim <- read.csv(\"./01. data/BGCON_CLAIM_DATA.csv\", fileEncoding = \"UTF-16\")"
   ]
  },
  {
   "cell_type": "code",
   "execution_count": 3,
   "metadata": {},
   "outputs": [],
   "source": [
    "cust <- filter(cust, DIVIDED_SET == 1)\n",
    "cust_te <- filter(cust, DIVIDED_SET == 2)"
   ]
  },
  {
   "cell_type": "code",
   "execution_count": 4,
   "metadata": {},
   "outputs": [],
   "source": [
    "claim <- arrange(claim, CUST_ID)"
   ]
  },
  {
   "cell_type": "markdown",
   "metadata": {},
   "source": [
    "# 3. Data Setting"
   ]
  },
  {
   "cell_type": "code",
   "execution_count": 5,
   "metadata": {},
   "outputs": [],
   "source": [
    "data <- select(cust, CUST_ID, SIU_CUST_YN)"
   ]
  },
  {
   "cell_type": "markdown",
   "metadata": {},
   "source": [
    "# 4. Claim Count"
   ]
  },
  {
   "cell_type": "code",
   "execution_count": 6,
   "metadata": {},
   "outputs": [],
   "source": [
    "claim_count <- claim %>% group_by(CUST_ID) %>% summarise(CLAIM_COUNT = n())\n",
    "data <- merge(data, claim_count, key=\"CUST_ID\")"
   ]
  },
  {
   "cell_type": "code",
   "execution_count": 7,
   "metadata": {},
   "outputs": [
    {
     "data": {
      "text/html": [
       "<table>\n",
       "<thead><tr><th scope=col>CUST_ID</th><th scope=col>SIU_CUST_YN</th><th scope=col>CLAIM_COUNT</th></tr></thead>\n",
       "<tbody>\n",
       "\t<tr><td>1</td><td>N</td><td>4</td></tr>\n",
       "\t<tr><td>2</td><td>N</td><td>3</td></tr>\n",
       "\t<tr><td>3</td><td>N</td><td>1</td></tr>\n",
       "\t<tr><td>4</td><td>N</td><td>9</td></tr>\n",
       "\t<tr><td>5</td><td>N</td><td>1</td></tr>\n",
       "\t<tr><td>6</td><td>N</td><td>3</td></tr>\n",
       "</tbody>\n",
       "</table>\n"
      ],
      "text/latex": [
       "\\begin{tabular}{r|lll}\n",
       " CUST\\_ID & SIU\\_CUST\\_YN & CLAIM\\_COUNT\\\\\n",
       "\\hline\n",
       "\t 1 & N & 4\\\\\n",
       "\t 2 & N & 3\\\\\n",
       "\t 3 & N & 1\\\\\n",
       "\t 4 & N & 9\\\\\n",
       "\t 5 & N & 1\\\\\n",
       "\t 6 & N & 3\\\\\n",
       "\\end{tabular}\n"
      ],
      "text/markdown": [
       "\n",
       "| CUST_ID | SIU_CUST_YN | CLAIM_COUNT |\n",
       "|---|---|---|\n",
       "| 1 | N | 4 |\n",
       "| 2 | N | 3 |\n",
       "| 3 | N | 1 |\n",
       "| 4 | N | 9 |\n",
       "| 5 | N | 1 |\n",
       "| 6 | N | 3 |\n",
       "\n"
      ],
      "text/plain": [
       "  CUST_ID SIU_CUST_YN CLAIM_COUNT\n",
       "1 1       N           4          \n",
       "2 2       N           3          \n",
       "3 3       N           1          \n",
       "4 4       N           9          \n",
       "5 5       N           1          \n",
       "6 6       N           3          "
      ]
     },
     "metadata": {},
     "output_type": "display_data"
    }
   ],
   "source": [
    "head(data)"
   ]
  },
  {
   "cell_type": "code",
   "execution_count": 8,
   "metadata": {},
   "outputs": [
    {
     "data": {
      "image/png": "[encoded data removed]",
      "text/plain": [
       "plot without title"
      ]
     },
     "metadata": {},
     "output_type": "display_data"
    }
   ],
   "source": [
    "data %>% ggplot(aes(x=CLAIM_COUNT, fill=SIU_CUST_YN)) + geom_histogram(bins = 30) + \n",
    "labs(fill = \"보험 사기 유무\", x = \"보험 청구 건수\", y = \"고객 수\")"
   ]
  }
 ],
 "metadata": {
  "kernelspec": {
   "display_name": "R",
   "language": "R",
   "name": "ir"
  },
  "language_info": {
   "codemirror_mode": "r",
   "file_extension": ".r",
   "mimetype": "text/x-r-source",
   "name": "R",
   "pygments_lexer": "r",
   "version": "3.6.1"
  }
 },
 "nbformat": 4,
 "nbformat_minor": 2
}
