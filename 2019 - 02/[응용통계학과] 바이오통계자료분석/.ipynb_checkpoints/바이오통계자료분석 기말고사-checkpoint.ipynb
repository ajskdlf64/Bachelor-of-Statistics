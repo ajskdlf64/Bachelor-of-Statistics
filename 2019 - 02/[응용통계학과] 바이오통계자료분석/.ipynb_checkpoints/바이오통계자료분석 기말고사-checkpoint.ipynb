{
 "cells": [
  {
   "cell_type": "markdown",
   "metadata": {},
   "source": [
    "# Multivariate case : Hotelling’s T2"
   ]
  },
  {
   "cell_type": "markdown",
   "metadata": {},
   "source": [
    "- 다수의 집단이 주어진 모집단의 평균과의 차이가 있는지 검정"
   ]
  },
  {
   "cell_type": "code",
   "execution_count": 1,
   "metadata": {
    "scrolled": true
   },
   "outputs": [
    {
     "name": "stderr",
     "output_type": "stream",
     "text": [
      "Loading required package: mvtnorm\n",
      "Loading required package: ICS\n"
     ]
    },
    {
     "data": {
      "text/plain": [
       "\n",
       "\tHotelling's one sample T2-test\n",
       "\n",
       "data:  calcium\n",
       "T.2 = 11.629, df1 = 3, df2 = 2, p-value = 0.08022\n",
       "alternative hypothesis: true location is not equal to c(2.85,15,6)\n"
      ]
     },
     "metadata": {},
     "output_type": "display_data"
    }
   ],
   "source": [
    "# 데이터 생성\n",
    "calcium = matrix(c(2.11, 10.1, 3.4,\n",
    "                   2.36, 35.0, 4.1,\n",
    "                    2.13, 2.0, 1.9,\n",
    "                    2.78, 6.0, 3.8,\n",
    "                    2.17, 2.0, 1.7), ncol = 3, byrow=T)\n",
    "calcium = as.data.frame(calcium)\n",
    "\n",
    "# 데이터 칼럼명 지정\n",
    "names(calcium) = c(\"PLANT\", \"AVAILABLE\", \"EXCHANGEABLE\")\n",
    "\n",
    "# hotelling's T^2 검정\n",
    "library(ICSNP)\n",
    "HotellingsT2(calcium, mu=c(2.85,15,6), test=\"f\")"
   ]
  },
  {
   "cell_type": "markdown",
   "metadata": {},
   "source": [
    "# Test Procedure for Repeated Measure Data"
   ]
  },
  {
   "cell_type": "markdown",
   "metadata": {},
   "source": [
    "- 반복측정자료를 분석하는 검정 기법\n",
    "\n",
    "\n",
    "- 각 자료들의 구간의 차이를 계산해서 그 차이를 검정"
   ]
  },
  {
   "cell_type": "code",
   "execution_count": 2,
   "metadata": {},
   "outputs": [],
   "source": [
    "# 데이터 셋팅\n",
    "ramus = read.csv(\"./Data/Ramus.csv\")\n",
    "ramus = ramus[,-1]\n",
    "C = matrix(c(1, -1,  0,  0,\n",
    "             0,  1, -1,  0,\n",
    "             0,  0,  1, -1), ncol = 4, byrow=T)\n",
    "ad.ramus = as.data.frame(as.matrix(ramus) %*% t(C))"
   ]
  },
  {
   "cell_type": "code",
   "execution_count": 3,
   "metadata": {},
   "outputs": [
    {
     "data": {
      "text/plain": [
       "\n",
       "\tHotelling's one sample T2-test\n",
       "\n",
       "data:  ad.ramus\n",
       "T.2 = 21.819, df1 = 3, df2 = 17, p-value = 4.594e-06\n",
       "alternative hypothesis: true location is not equal to c(0,0,0)\n"
      ]
     },
     "metadata": {},
     "output_type": "display_data"
    }
   ],
   "source": [
    "# 방법 1 : 행렬 계산\n",
    "# F검정을 이용한 hotellingsT2 검정\n",
    "# (다변량 정규분포를 가정)\n",
    "library(ICSNP)\n",
    "HotellingsT2(ad.ramus, test=\"f\")"
   ]
  },
  {
   "cell_type": "code",
   "execution_count": 4,
   "metadata": {},
   "outputs": [
    {
     "data": {
      "text/plain": [
       "\n",
       "\tHotelling's one sample T2-test\n",
       "\n",
       "data:  calcium\n",
       "T.2 = 69.775, df = 3, p-value = 4.774e-15\n",
       "alternative hypothesis: true location is not equal to c(2.85,15,6)\n"
      ]
     },
     "metadata": {},
     "output_type": "display_data"
    }
   ],
   "source": [
    "# 방법 1 : 행렬 계산\n",
    "# chi검정을 이용한 hotellingsT2 검정\n",
    "# (다변량 정규분포를 만족하지 못하는 경우)\n",
    "library(ICSNP)\n",
    "HotellingsT2(calcium, mu=c(2.85,15,6), test=\"chi\")"
   ]
  },
  {
   "cell_type": "code",
   "execution_count": 5,
   "metadata": {},
   "outputs": [
    {
     "data": {
      "text/plain": [
       "\n",
       "\tHotelling's one sample T2-test\n",
       "\n",
       "data:  ad2.ramus\n",
       "T.2 = 21.819, df1 = 3, df2 = 17, p-value = 4.594e-06\n",
       "alternative hypothesis: true location is not equal to c(0,0,0)\n"
      ]
     },
     "metadata": {},
     "output_type": "display_data"
    }
   ],
   "source": [
    "# 방법 2 : Y를 직접 계산하는 방법\n",
    "\n",
    "ramus = read.csv(\"./Data/ramus.csv\")\n",
    "ramus = ramus[,-1]\n",
    "\n",
    "# 변수 생성\n",
    "attach(ramus)\n",
    "   df1 = age8 - age8.5\n",
    "   df2 = age8 - age9\n",
    "   df3 = age8 - age9.5\n",
    "detach(ramus)\n",
    "   \n",
    "# 데이터프레임으로 변환\n",
    "ad2.ramus = data.frame(df1, df2, df3)\n",
    "\n",
    "# Hotellings T 검정\n",
    "HotellingsT2(ad2.ramus, test=\"f\")"
   ]
  },
  {
   "cell_type": "markdown",
   "metadata": {},
   "source": [
    "# Profile Analysis"
   ]
  },
  {
   "cell_type": "markdown",
   "metadata": {},
   "source": [
    "- 시간이 지남에 따라 효과가 단순증가하거나, 단순감소하는지 검정"
   ]
  },
  {
   "cell_type": "code",
   "execution_count": 6,
   "metadata": {},
   "outputs": [
    {
     "data": {
      "text/html": [
       "<table>\n",
       "<thead><tr><th scope=col>ID</th><th scope=col>G08</th><th scope=col>G09</th><th scope=col>G10</th><th scope=col>G11</th></tr></thead>\n",
       "<tbody>\n",
       "\t<tr><td>1    </td><td> 1.75</td><td> 2.60</td><td> 3.76</td><td> 3.68</td></tr>\n",
       "\t<tr><td>2    </td><td> 0.90</td><td> 2.47</td><td> 2.44</td><td> 3.43</td></tr>\n",
       "\t<tr><td>3    </td><td> 0.80</td><td> 0.93</td><td> 0.40</td><td> 2.27</td></tr>\n",
       "\t<tr><td>4    </td><td> 2.42</td><td> 4.15</td><td> 4.56</td><td> 4.21</td></tr>\n",
       "\t<tr><td>5    </td><td>-1.31</td><td>-1.31</td><td>-0.66</td><td>-2.22</td></tr>\n",
       "\t<tr><td>6    </td><td>-1.56</td><td> 1.67</td><td> 0.18</td><td> 2.33</td></tr>\n",
       "</tbody>\n",
       "</table>\n"
      ],
      "text/latex": [
       "\\begin{tabular}{r|lllll}\n",
       " ID & G08 & G09 & G10 & G11\\\\\n",
       "\\hline\n",
       "\t 1     &  1.75 &  2.60 &  3.76 &  3.68\\\\\n",
       "\t 2     &  0.90 &  2.47 &  2.44 &  3.43\\\\\n",
       "\t 3     &  0.80 &  0.93 &  0.40 &  2.27\\\\\n",
       "\t 4     &  2.42 &  4.15 &  4.56 &  4.21\\\\\n",
       "\t 5     & -1.31 & -1.31 & -0.66 & -2.22\\\\\n",
       "\t 6     & -1.56 &  1.67 &  0.18 &  2.33\\\\\n",
       "\\end{tabular}\n"
      ],
      "text/markdown": [
       "\n",
       "| ID | G08 | G09 | G10 | G11 |\n",
       "|---|---|---|---|---|\n",
       "| 1     |  1.75 |  2.60 |  3.76 |  3.68 |\n",
       "| 2     |  0.90 |  2.47 |  2.44 |  3.43 |\n",
       "| 3     |  0.80 |  0.93 |  0.40 |  2.27 |\n",
       "| 4     |  2.42 |  4.15 |  4.56 |  4.21 |\n",
       "| 5     | -1.31 | -1.31 | -0.66 | -2.22 |\n",
       "| 6     | -1.56 |  1.67 |  0.18 |  2.33 |\n",
       "\n"
      ],
      "text/plain": [
       "  ID G08   G09   G10   G11  \n",
       "1 1   1.75  2.60  3.76  3.68\n",
       "2 2   0.90  2.47  2.44  3.43\n",
       "3 3   0.80  0.93  0.40  2.27\n",
       "4 4   2.42  4.15  4.56  4.21\n",
       "5 5  -1.31 -1.31 -0.66 -2.22\n",
       "6 6  -1.56  1.67  0.18  2.33"
      ]
     },
     "metadata": {},
     "output_type": "display_data"
    }
   ],
   "source": [
    "vscores = data.frame(ID = c(1:36),\n",
    "                     G08 = c(1.75,0.90,0.80,2.42,-1.31,-1.56,1.09,-1.92,-1.61,2.47,-0.95,1.66,2.07,3.30,2.75,2.25,2.08,0.14,\n",
    "                            0.13,2.19,-0.64,2.02,2.05,1.48,1.97,1.35,-0.56,0.26,1.22,-1.43,-1.17,1.68,-0.47,2.18,4.21,8.26),\n",
    "                     G09 = c(2.60,2.47,0.93,4.15,-1.31,1.67,1.50,1.03,0.29,3.64,0.41,2.74,4.92,6.10,2.53,3.38,1.74,0.01,\n",
    "                            3.19,2.65,-1.31,3.45,1.80,0.47,2.54,4.63,-0.36,0.08,1.41,0.80,1.66,1.71,0.93,6.42,7.08,9.55),\n",
    "                    G10 = c(3.76,2.44,0.40,4.56,-0.66,0.18,0.52,0.50,0.73,2.87,0.21,2.40,4.46,7.19,4.28,5.79,4.12,1.48,0.60,\n",
    "                            3.27,-0.37,5.32,3.91,3.63,3.26,3.54,1.14,1.17,4.66,-0.03,2.11,4.07,1.30,4.64,6.00,10.24),\n",
    "                    G11 = c(3.68,3.43,2.27,4.21,-2.22,2.33,2.33,3.04,3.243,5.38,1.82,2.17,4.71,7.46,5.93,4.40,3.62,2.78,\n",
    "                            3.14,2.736,4.09,6.01,2.49,3.88,5.62,5.24,1.34,2.15,2.62,1.04,1.42,3.30,0.76,4.82,5.65,10.58))\n",
    "head(vscores)"
   ]
  },
  {
   "cell_type": "code",
   "execution_count": 7,
   "metadata": {},
   "outputs": [
    {
     "name": "stderr",
     "output_type": "stream",
     "text": [
      "Registered S3 methods overwritten by 'ggplot2':\n",
      "  method         from \n",
      "  [.quosures     rlang\n",
      "  c.quosures     rlang\n",
      "  print.quosures rlang\n",
      "Registered S3 method overwritten by 'rvest':\n",
      "  method            from\n",
      "  read_xml.response xml2\n",
      "-- Attaching packages --------------------------------------- tidyverse 1.2.1 --\n",
      "√ ggplot2 3.1.1       √ purrr   0.3.2  \n",
      "√ tibble  2.1.1       √ dplyr   0.8.0.1\n",
      "√ tidyr   0.8.3       √ stringr 1.4.0  \n",
      "√ readr   1.3.1       √ forcats 0.4.0  \n",
      "-- Conflicts ------------------------------------------ tidyverse_conflicts() --\n",
      "x dplyr::filter() masks stats::filter()\n",
      "x dplyr::lag()    masks stats::lag()\n"
     ]
    },
    {
     "data": {
      "text/plain": [
       "             Df Sum Sq Mean Sq F value  Pr(>F)    \n",
       "GROUP         3  111.3   37.09   7.422 0.00012 ***\n",
       "Residuals   140  699.6    5.00                    \n",
       "---\n",
       "Signif. codes:  0 '***' 0.001 '**' 0.01 '*' 0.05 '.' 0.1 ' ' 1"
      ]
     },
     "metadata": {},
     "output_type": "display_data"
    }
   ],
   "source": [
    "# Test\n",
    "library(tidyverse)\n",
    "vscores_df <- data.frame(ID = rep(c(1:36),4), \n",
    "                         GROUP = rep(c(\"G08\",\"G09\",\"G10\",\"G11\"),each=36),\n",
    "                         VALUE = c(vscores$G08,vscores$G09,vscores$G10,vscores$G11)) %>% \n",
    "              mutate(ID = as.factor(ID), GROUP = as.factor(GROUP))\n",
    "ANOVA_MODEL = aov(VALUE ~ GROUP, data=vscores_df)\n",
    "summary(ANOVA_MODEL)"
   ]
  },
  {
   "cell_type": "code",
   "execution_count": 8,
   "metadata": {},
   "outputs": [
    {
     "data": {
      "text/plain": [
       "\n",
       "\tHotelling's one sample T2-test\n",
       "\n",
       "data:  vscores.ramus\n",
       "T.2 = 2.2037, df1 = 2, df2 = 34, p-value = 0.1259\n",
       "alternative hypothesis: true location is not equal to c(0,0)\n"
      ]
     },
     "metadata": {},
     "output_type": "display_data"
    }
   ],
   "source": [
    "# Profile Analysis\n",
    "vscores = vscores[,-1]\n",
    "C = matrix(c(-1,  2,  -1,  0,\n",
    "              0, -1,   2, -1), ncol = 4, byrow=T)\n",
    "vscores.ramus = as.data.frame(as.matrix(vscores) %*% t(C))\n",
    "library(ICSNP)\n",
    "HotellingsT2(vscores.ramus, test=\"f\")"
   ]
  },
  {
   "cell_type": "code",
   "execution_count": 9,
   "metadata": {},
   "outputs": [
    {
     "data": {
      "image/png": "[encoded data removed]",
      "text/plain": [
       "plot without title"
      ]
     },
     "metadata": {},
     "output_type": "display_data"
    }
   ],
   "source": [
    "# Interaction Plot\n",
    "library(tidyverse)\n",
    "vscores_df <- data.frame(ID = rep(c(1:36),4), \n",
    "                         GROUP = rep(c(\"G08\",\"G09\",\"G10\",\"G11\"),each=36),\n",
    "                         VALUE = c(vscores$G08,vscores$G09,vscores$G10,vscores$G11)) %>% \n",
    "              mutate(ID = as.factor(ID), GROUP = as.factor(GROUP))\n",
    "with(vscores_df, interaction.plot(x.factor = GROUP, trace.factor = ID, response = VALUE, legend = FALSE))"
   ]
  },
  {
   "cell_type": "markdown",
   "metadata": {},
   "source": [
    "# Bioequivalence Study"
   ]
  },
  {
   "cell_type": "code",
   "execution_count": 10,
   "metadata": {},
   "outputs": [
    {
     "name": "stdout",
     "output_type": "stream",
     "text": [
      "'data.frame':\t172 obs. of  8 variables:\n",
      " $ OBS : int  1 2 3 4 5 6 7 8 9 10 ...\n",
      " $ SUBJ: int  1 1 1 1 2 2 2 2 4 4 ...\n",
      " $ PER : int  1 2 3 4 3 4 1 2 2 3 ...\n",
      " $ SEQ : int  1 1 1 1 2 2 2 2 4 4 ...\n",
      " $ TRT : Factor w/ 2 levels \"    A\",\"    B\": 1 1 2 2 1 1 2 2 1 1 ...\n",
      " $ AUCT: num  5.04 3.35 2.54 5.99 6.6 ...\n",
      " $ AUCI: Factor w/ 145 levels \"      NA  \",\"     1.468\",..: 76 1 1 1 109 1 81 114 86 61 ...\n",
      " $ CMAX: num  0.819 0.674 0.359 0.766 0.953 0.88 0.579 0.992 1.01 0.605 ...\n"
     ]
    }
   ],
   "source": [
    "bioeq = read.csv(\"./Data/drug13a.csv\", header=T, skip = 7)\n",
    "str(bioeq)"
   ]
  },
  {
   "cell_type": "code",
   "execution_count": 11,
   "metadata": {},
   "outputs": [
    {
     "data": {
      "text/html": [
       "<table>\n",
       "<thead><tr><th scope=col>OBS</th><th scope=col>SUBJ</th><th scope=col>PER</th><th scope=col>SEQ</th><th scope=col>TRT</th><th scope=col>AUCT</th><th scope=col>AUCI</th><th scope=col>CMAX</th></tr></thead>\n",
       "<tbody>\n",
       "\t<tr><td>1         </td><td>1         </td><td>1         </td><td>1         </td><td>    A     </td><td>5.037     </td><td>     5.043</td><td>0.819     </td></tr>\n",
       "\t<tr><td>2         </td><td>1         </td><td>2         </td><td>1         </td><td>    A     </td><td>3.351     </td><td>      NA  </td><td>0.674     </td></tr>\n",
       "\t<tr><td>3         </td><td>1         </td><td>3         </td><td>1         </td><td>    B     </td><td>2.539     </td><td>      NA  </td><td>0.359     </td></tr>\n",
       "\t<tr><td>4         </td><td>1         </td><td>4         </td><td>1         </td><td>    B     </td><td>5.986     </td><td>      NA  </td><td>0.766     </td></tr>\n",
       "\t<tr><td>5         </td><td>2         </td><td>3         </td><td>2         </td><td>    A     </td><td>6.599     </td><td>     6.623</td><td>0.953     </td></tr>\n",
       "\t<tr><td>6         </td><td>2         </td><td>4         </td><td>2         </td><td>    A     </td><td>8.319     </td><td>      NA  </td><td>0.880     </td></tr>\n",
       "</tbody>\n",
       "</table>\n"
      ],
      "text/latex": [
       "\\begin{tabular}{r|llllllll}\n",
       " OBS & SUBJ & PER & SEQ & TRT & AUCT & AUCI & CMAX\\\\\n",
       "\\hline\n",
       "\t 1          & 1          & 1          & 1          &     A      & 5.037      &      5.043 & 0.819     \\\\\n",
       "\t 2          & 1          & 2          & 1          &     A      & 3.351      &       NA   & 0.674     \\\\\n",
       "\t 3          & 1          & 3          & 1          &     B      & 2.539      &       NA   & 0.359     \\\\\n",
       "\t 4          & 1          & 4          & 1          &     B      & 5.986      &       NA   & 0.766     \\\\\n",
       "\t 5          & 2          & 3          & 2          &     A      & 6.599      &      6.623 & 0.953     \\\\\n",
       "\t 6          & 2          & 4          & 2          &     A      & 8.319      &       NA   & 0.880     \\\\\n",
       "\\end{tabular}\n"
      ],
      "text/markdown": [
       "\n",
       "| OBS | SUBJ | PER | SEQ | TRT | AUCT | AUCI | CMAX |\n",
       "|---|---|---|---|---|---|---|---|\n",
       "| 1          | 1          | 1          | 1          |     A      | 5.037      |      5.043 | 0.819      |\n",
       "| 2          | 1          | 2          | 1          |     A      | 3.351      |       NA   | 0.674      |\n",
       "| 3          | 1          | 3          | 1          |     B      | 2.539      |       NA   | 0.359      |\n",
       "| 4          | 1          | 4          | 1          |     B      | 5.986      |       NA   | 0.766      |\n",
       "| 5          | 2          | 3          | 2          |     A      | 6.599      |      6.623 | 0.953      |\n",
       "| 6          | 2          | 4          | 2          |     A      | 8.319      |       NA   | 0.880      |\n",
       "\n"
      ],
      "text/plain": [
       "  OBS SUBJ PER SEQ TRT   AUCT  AUCI       CMAX \n",
       "1 1   1    1   1       A 5.037      5.043 0.819\n",
       "2 2   1    2   1       A 3.351       NA   0.674\n",
       "3 3   1    3   1       B 2.539       NA   0.359\n",
       "4 4   1    4   1       B 5.986       NA   0.766\n",
       "5 5   2    3   2       A 6.599      6.623 0.953\n",
       "6 6   2    4   2       A 8.319       NA   0.880"
      ]
     },
     "metadata": {},
     "output_type": "display_data"
    }
   ],
   "source": [
    "# Data\n",
    "head(bioeq)"
   ]
  },
  {
   "cell_type": "code",
   "execution_count": 12,
   "metadata": {},
   "outputs": [
    {
     "data": {
      "image/png": "[encoded data removed]",
      "text/plain": [
       "plot without title"
      ]
     },
     "metadata": {},
     "output_type": "display_data"
    }
   ],
   "source": [
    "# Boxplot\n",
    "boxplot(CMAX ~ TRT, data=bioeq)"
   ]
  },
  {
   "cell_type": "code",
   "execution_count": 13,
   "metadata": {},
   "outputs": [
    {
     "data": {
      "image/png": "[encoded data removed]",
      "text/plain": [
       "Plot with title \"Densities of CMAX(TRT A: solid, TRT B: dotted)\""
      ]
     },
     "metadata": {},
     "output_type": "display_data"
    }
   ],
   "source": [
    "# Density Plot\n",
    "attach(bioeq)\n",
    "plot(density(CMAX[TRT==levels(TRT)[1]]), main = \"Densities of CMAX(TRT A: solid, TRT B: dotted)\")\n",
    "lines(density(CMAX[TRT==levels(TRT)[2]]), lty = 2)"
   ]
  },
  {
   "cell_type": "code",
   "execution_count": 14,
   "metadata": {},
   "outputs": [
    {
     "data": {
      "image/png": "[encoded data removed]",
      "text/plain": [
       "plot without title"
      ]
     },
     "metadata": {},
     "output_type": "display_data"
    },
    {
     "data": {
      "image/png": "[encoded data removed]",
      "text/plain": [
       "Plot with title \"Densities of log(CMAX)(TRT A: solid, TRT B: dotted)\""
      ]
     },
     "metadata": {},
     "output_type": "display_data"
    }
   ],
   "source": [
    "# FDA guideline에서는 특성치들에 대해 log변환할 것을 요구.\n",
    "logCMAX = log(CMAX)\n",
    "boxplot(logCMAX ~ TRT)\n",
    "plot(density(logCMAX[TRT==levels(TRT)[1]]), main = \"Densities of log(CMAX)(TRT A: solid, TRT B: dotted)\")\n",
    "lines(density(logCMAX[TRT==levels(TRT)[2]]), lty = 2)"
   ]
  },
  {
   "cell_type": "code",
   "execution_count": 15,
   "metadata": {},
   "outputs": [
    {
     "data": {
      "text/plain": [
       "\n",
       "\tF test to compare two variances\n",
       "\n",
       "data:  logCMAX by TRT\n",
       "F = 0.90972, num df = 85, denom df = 85, p-value = 0.6637\n",
       "alternative hypothesis: true ratio of variances is not equal to 1\n",
       "95 percent confidence interval:\n",
       " 0.592943 1.395739\n",
       "sample estimates:\n",
       "ratio of variances \n",
       "         0.9097219 \n"
      ]
     },
     "metadata": {},
     "output_type": "display_data"
    }
   ],
   "source": [
    "# 등분산 검정\n",
    "var.test(logCMAX ~ TRT)"
   ]
  },
  {
   "cell_type": "code",
   "execution_count": 16,
   "metadata": {},
   "outputs": [
    {
     "data": {
      "text/plain": [
       "\n",
       "\tTwo Sample t-test\n",
       "\n",
       "data:  logCMAX by TRT\n",
       "t = 1.3495, df = 170, p-value = 0.179\n",
       "alternative hypothesis: true difference in means is not equal to 0\n",
       "90 percent confidence interval:\n",
       " -0.02101789  0.20740720\n",
       "sample estimates:\n",
       "mean in group     A mean in group     B \n",
       "         -0.3459025          -0.4390971 \n"
      ]
     },
     "metadata": {},
     "output_type": "display_data"
    }
   ],
   "source": [
    "# TOST : Two One-Sided Test\n",
    "t.test(logCMAX ~ TRT, conf.level = 0.90, var.equal = T)"
   ]
  },
  {
   "cell_type": "code",
   "execution_count": 17,
   "metadata": {},
   "outputs": [],
   "source": [
    "detach(bioeq)"
   ]
  },
  {
   "cell_type": "markdown",
   "metadata": {},
   "source": [
    "# 2 x 2 Cross-over design"
   ]
  },
  {
   "cell_type": "code",
   "execution_count": 28,
   "metadata": {},
   "outputs": [
    {
     "data": {
      "text/html": [
       "<table>\n",
       "<thead><tr><th scope=col>sub</th><th scope=col>seq</th><th scope=col>period1</th><th scope=col>period2</th></tr></thead>\n",
       "<tbody>\n",
       "\t<tr><td>1     </td><td>2     </td><td>228.04</td><td>288.79</td></tr>\n",
       "\t<tr><td>2     </td><td>1     </td><td>339.03</td><td>329.76</td></tr>\n",
       "\t<tr><td>3     </td><td>2     </td><td>288.21</td><td>343.37</td></tr>\n",
       "\t<tr><td>4     </td><td>1     </td><td>242.64</td><td>258.19</td></tr>\n",
       "\t<tr><td>5     </td><td>1     </td><td>249.94</td><td>201.56</td></tr>\n",
       "\t<tr><td>6     </td><td>2     </td><td>217.97</td><td>225.77</td></tr>\n",
       "</tbody>\n",
       "</table>\n"
      ],
      "text/latex": [
       "\\begin{tabular}{r|llll}\n",
       " sub & seq & period1 & period2\\\\\n",
       "\\hline\n",
       "\t 1      & 2      & 228.04 & 288.79\\\\\n",
       "\t 2      & 1      & 339.03 & 329.76\\\\\n",
       "\t 3      & 2      & 288.21 & 343.37\\\\\n",
       "\t 4      & 1      & 242.64 & 258.19\\\\\n",
       "\t 5      & 1      & 249.94 & 201.56\\\\\n",
       "\t 6      & 2      & 217.97 & 225.77\\\\\n",
       "\\end{tabular}\n"
      ],
      "text/markdown": [
       "\n",
       "| sub | seq | period1 | period2 |\n",
       "|---|---|---|---|\n",
       "| 1      | 2      | 228.04 | 288.79 |\n",
       "| 2      | 1      | 339.03 | 329.76 |\n",
       "| 3      | 2      | 288.21 | 343.37 |\n",
       "| 4      | 1      | 242.64 | 258.19 |\n",
       "| 5      | 1      | 249.94 | 201.56 |\n",
       "| 6      | 2      | 217.97 | 225.77 |\n",
       "\n"
      ],
      "text/plain": [
       "  sub seq period1 period2\n",
       "1 1   2   228.04  288.79 \n",
       "2 2   1   339.03  329.76 \n",
       "3 3   2   288.21  343.37 \n",
       "4 4   1   242.64  258.19 \n",
       "5 5   1   249.94  201.56 \n",
       "6 6   2   217.97  225.77 "
      ]
     },
     "metadata": {},
     "output_type": "display_data"
    }
   ],
   "source": [
    "# Original Data\n",
    "original_data <- read.csv(\"./Data/RTTR.csv\", header = T)\n",
    "head(original_data)"
   ]
  },
  {
   "cell_type": "code",
   "execution_count": 31,
   "metadata": {},
   "outputs": [],
   "source": [
    "# Data Transformation\n",
    "library(tidyverse)\n",
    "data1 <- data.frame(sub=1:18, seq = original_data[,2])\n",
    "data1 <- mutate(data1, AUC = original_data$period1, period = 1)\n",
    "data1 <- mutate(data1, formula = if_else(seq == 1, \"R\", \"T\"))\n",
    "data2 <- data.frame(sub=1:18, seq=original_data[,2])\n",
    "data2 <- mutate(data2, AUC = original_data$period2, period = 2)\n",
    "data2 <- mutate(data2, formula = if_else(seq == 1, \"T\", \"R\"))"
   ]
  },
  {
   "cell_type": "code",
   "execution_count": 32,
   "metadata": {},
   "outputs": [
    {
     "data": {
      "text/html": [
       "<table>\n",
       "<thead><tr><th scope=col>sub</th><th scope=col>seq</th><th scope=col>AUC</th><th scope=col>period</th><th scope=col>formula</th></tr></thead>\n",
       "<tbody>\n",
       "\t<tr><td>1     </td><td>2     </td><td>228.04</td><td>1     </td><td>T     </td></tr>\n",
       "\t<tr><td>2     </td><td>1     </td><td>339.03</td><td>1     </td><td>R     </td></tr>\n",
       "\t<tr><td>3     </td><td>2     </td><td>288.21</td><td>1     </td><td>T     </td></tr>\n",
       "\t<tr><td>4     </td><td>1     </td><td>242.64</td><td>1     </td><td>R     </td></tr>\n",
       "\t<tr><td>5     </td><td>1     </td><td>249.94</td><td>1     </td><td>R     </td></tr>\n",
       "\t<tr><td>6     </td><td>2     </td><td>217.97</td><td>1     </td><td>T     </td></tr>\n",
       "</tbody>\n",
       "</table>\n"
      ],
      "text/latex": [
       "\\begin{tabular}{r|lllll}\n",
       " sub & seq & AUC & period & formula\\\\\n",
       "\\hline\n",
       "\t 1      & 2      & 228.04 & 1      & T     \\\\\n",
       "\t 2      & 1      & 339.03 & 1      & R     \\\\\n",
       "\t 3      & 2      & 288.21 & 1      & T     \\\\\n",
       "\t 4      & 1      & 242.64 & 1      & R     \\\\\n",
       "\t 5      & 1      & 249.94 & 1      & R     \\\\\n",
       "\t 6      & 2      & 217.97 & 1      & T     \\\\\n",
       "\\end{tabular}\n"
      ],
      "text/markdown": [
       "\n",
       "| sub | seq | AUC | period | formula |\n",
       "|---|---|---|---|---|\n",
       "| 1      | 2      | 228.04 | 1      | T      |\n",
       "| 2      | 1      | 339.03 | 1      | R      |\n",
       "| 3      | 2      | 288.21 | 1      | T      |\n",
       "| 4      | 1      | 242.64 | 1      | R      |\n",
       "| 5      | 1      | 249.94 | 1      | R      |\n",
       "| 6      | 2      | 217.97 | 1      | T      |\n",
       "\n"
      ],
      "text/plain": [
       "  sub seq AUC    period formula\n",
       "1 1   2   228.04 1      T      \n",
       "2 2   1   339.03 1      R      \n",
       "3 3   2   288.21 1      T      \n",
       "4 4   1   242.64 1      R      \n",
       "5 5   1   249.94 1      R      \n",
       "6 6   2   217.97 1      T      "
      ]
     },
     "metadata": {},
     "output_type": "display_data"
    },
    {
     "data": {
      "text/html": [
       "<table>\n",
       "<thead><tr><th scope=col>sub</th><th scope=col>seq</th><th scope=col>AUC</th><th scope=col>period</th><th scope=col>formula</th></tr></thead>\n",
       "<tbody>\n",
       "\t<tr><td>1     </td><td>2     </td><td>288.79</td><td>2     </td><td>R     </td></tr>\n",
       "\t<tr><td>2     </td><td>1     </td><td>329.76</td><td>2     </td><td>T     </td></tr>\n",
       "\t<tr><td>3     </td><td>2     </td><td>343.37</td><td>2     </td><td>R     </td></tr>\n",
       "\t<tr><td>4     </td><td>1     </td><td>258.19</td><td>2     </td><td>T     </td></tr>\n",
       "\t<tr><td>5     </td><td>1     </td><td>201.56</td><td>2     </td><td>T     </td></tr>\n",
       "\t<tr><td>6     </td><td>2     </td><td>225.77</td><td>2     </td><td>R     </td></tr>\n",
       "</tbody>\n",
       "</table>\n"
      ],
      "text/latex": [
       "\\begin{tabular}{r|lllll}\n",
       " sub & seq & AUC & period & formula\\\\\n",
       "\\hline\n",
       "\t 1      & 2      & 288.79 & 2      & R     \\\\\n",
       "\t 2      & 1      & 329.76 & 2      & T     \\\\\n",
       "\t 3      & 2      & 343.37 & 2      & R     \\\\\n",
       "\t 4      & 1      & 258.19 & 2      & T     \\\\\n",
       "\t 5      & 1      & 201.56 & 2      & T     \\\\\n",
       "\t 6      & 2      & 225.77 & 2      & R     \\\\\n",
       "\\end{tabular}\n"
      ],
      "text/markdown": [
       "\n",
       "| sub | seq | AUC | period | formula |\n",
       "|---|---|---|---|---|\n",
       "| 1      | 2      | 288.79 | 2      | R      |\n",
       "| 2      | 1      | 329.76 | 2      | T      |\n",
       "| 3      | 2      | 343.37 | 2      | R      |\n",
       "| 4      | 1      | 258.19 | 2      | T      |\n",
       "| 5      | 1      | 201.56 | 2      | T      |\n",
       "| 6      | 2      | 225.77 | 2      | R      |\n",
       "\n"
      ],
      "text/plain": [
       "  sub seq AUC    period formula\n",
       "1 1   2   288.79 2      R      \n",
       "2 2   1   329.76 2      T      \n",
       "3 3   2   343.37 2      R      \n",
       "4 4   1   258.19 2      T      \n",
       "5 5   1   201.56 2      T      \n",
       "6 6   2   225.77 2      R      "
      ]
     },
     "metadata": {},
     "output_type": "display_data"
    }
   ],
   "source": [
    "head(data1)\n",
    "head(data2)"
   ]
  },
  {
   "cell_type": "code",
   "execution_count": 33,
   "metadata": {},
   "outputs": [
    {
     "name": "stdout",
     "output_type": "stream",
     "text": [
      "'data.frame':\t36 obs. of  5 variables:\n",
      " $ sub    : Factor w/ 18 levels \"1\",\"2\",\"3\",\"4\",..: 1 1 2 2 3 3 4 4 5 5 ...\n",
      " $ seq    : Factor w/ 2 levels \"1\",\"2\": 2 2 1 1 2 2 1 1 1 1 ...\n",
      " $ formula: Factor w/ 2 levels \"R\",\"T\": 2 1 2 1 2 1 1 2 2 1 ...\n",
      " $ period : Factor w/ 2 levels \"1\",\"2\": 1 2 2 1 1 2 1 2 2 1 ...\n",
      " $ AUC    : num  228 289 330 339 288 ...\n"
     ]
    }
   ],
   "source": [
    "# Data Merge\n",
    "long_data <- merge(data1, data2, all = T)\n",
    "long_data <- select(long_data, sub, seq, formula, period, AUC)\n",
    "\n",
    "# Long Format Data\n",
    "long_data <- long_data %>% mutate(sub = as.factor(sub), \n",
    "                                   seq = as.factor(seq), \n",
    "                                   formula = as.factor(formula), \n",
    "                                   period = as.factor(period))\n",
    "str(long_data)"
   ]
  },
  {
   "cell_type": "code",
   "execution_count": 34,
   "metadata": {},
   "outputs": [
    {
     "data": {
      "text/html": [
       "<table>\n",
       "<thead><tr><th scope=col>sub</th><th scope=col>seq</th><th scope=col>formula</th><th scope=col>period</th><th scope=col>AUC</th></tr></thead>\n",
       "<tbody>\n",
       "\t<tr><td>1     </td><td>2     </td><td>T     </td><td>1     </td><td>228.04</td></tr>\n",
       "\t<tr><td>1     </td><td>2     </td><td>R     </td><td>2     </td><td>288.79</td></tr>\n",
       "\t<tr><td>2     </td><td>1     </td><td>T     </td><td>2     </td><td>329.76</td></tr>\n",
       "\t<tr><td>2     </td><td>1     </td><td>R     </td><td>1     </td><td>339.03</td></tr>\n",
       "\t<tr><td>3     </td><td>2     </td><td>T     </td><td>1     </td><td>288.21</td></tr>\n",
       "\t<tr><td>3     </td><td>2     </td><td>R     </td><td>2     </td><td>343.37</td></tr>\n",
       "</tbody>\n",
       "</table>\n"
      ],
      "text/latex": [
       "\\begin{tabular}{r|lllll}\n",
       " sub & seq & formula & period & AUC\\\\\n",
       "\\hline\n",
       "\t 1      & 2      & T      & 1      & 228.04\\\\\n",
       "\t 1      & 2      & R      & 2      & 288.79\\\\\n",
       "\t 2      & 1      & T      & 2      & 329.76\\\\\n",
       "\t 2      & 1      & R      & 1      & 339.03\\\\\n",
       "\t 3      & 2      & T      & 1      & 288.21\\\\\n",
       "\t 3      & 2      & R      & 2      & 343.37\\\\\n",
       "\\end{tabular}\n"
      ],
      "text/markdown": [
       "\n",
       "| sub | seq | formula | period | AUC |\n",
       "|---|---|---|---|---|\n",
       "| 1      | 2      | T      | 1      | 228.04 |\n",
       "| 1      | 2      | R      | 2      | 288.79 |\n",
       "| 2      | 1      | T      | 2      | 329.76 |\n",
       "| 2      | 1      | R      | 1      | 339.03 |\n",
       "| 3      | 2      | T      | 1      | 288.21 |\n",
       "| 3      | 2      | R      | 2      | 343.37 |\n",
       "\n"
      ],
      "text/plain": [
       "  sub seq formula period AUC   \n",
       "1 1   2   T       1      228.04\n",
       "2 1   2   R       2      288.79\n",
       "3 2   1   T       2      329.76\n",
       "4 2   1   R       1      339.03\n",
       "5 3   2   T       1      288.21\n",
       "6 3   2   R       2      343.37"
      ]
     },
     "metadata": {},
     "output_type": "display_data"
    }
   ],
   "source": [
    "head(long_data)"
   ]
  },
  {
   "cell_type": "code",
   "execution_count": 39,
   "metadata": {},
   "outputs": [
    {
     "name": "stderr",
     "output_type": "stream",
     "text": [
      "ERROR while rich displaying an object: Error in .escape_vec(vec, \"html\"): expected `vec` to be a vector or factor but it is a matrix\n",
      "\n",
      "Traceback:\n",
      "1. FUN(X[[i]], ...)\n",
      "2. tryCatch(withCallingHandlers({\n",
      " .     if (!mime %in% names(repr::mime2repr)) \n",
      " .         stop(\"No repr_* for mimetype \", mime, \" in repr::mime2repr\")\n",
      " .     rpr <- repr::mime2repr[[mime]](obj)\n",
      " .     if (is.null(rpr)) \n",
      " .         return(NULL)\n",
      " .     prepare_content(is.raw(rpr), rpr)\n",
      " . }, error = error_handler), error = outer_handler)\n",
      "3. tryCatchList(expr, classes, parentenv, handlers)\n",
      "4. tryCatchOne(expr, names, parentenv, handlers[[1L]])\n",
      "5. doTryCatch(return(expr), name, parentenv, handler)\n",
      "6. withCallingHandlers({\n",
      " .     if (!mime %in% names(repr::mime2repr)) \n",
      " .         stop(\"No repr_* for mimetype \", mime, \" in repr::mime2repr\")\n",
      " .     rpr <- repr::mime2repr[[mime]](obj)\n",
      " .     if (is.null(rpr)) \n",
      " .         return(NULL)\n",
      " .     prepare_content(is.raw(rpr), rpr)\n",
      " . }, error = error_handler)\n",
      "7. repr::mime2repr[[mime]](obj)\n",
      "8. repr_html.list(obj)\n",
      "9. repr_list_generic(obj, \"html\", \"\\t<li>%s</li>\\n\", \"\\t<dt>$%s</dt>\\n\\t\\t<dd>%s</dd>\\n\", \n",
      " .     \"<strong>$%s</strong> = %s\", \"<ol>\\n%s</ol>\\n\", \"<dl>\\n%s</dl>\\n\", \n",
      " .     numeric_item = \"\\t<dt>[[%s]]</dt>\\n\\t\\t<dd>%s</dd>\\n\", escape_fun = html_escape)\n",
      "10. lapply(vec, format2repr[[fmt]])\n",
      "11. FUN(X[[i]], ...)\n",
      "12. repr_html.list(X[[i]], ...)\n",
      "13. repr_list_generic(obj, \"html\", \"\\t<li>%s</li>\\n\", \"\\t<dt>$%s</dt>\\n\\t\\t<dd>%s</dd>\\n\", \n",
      "  .     \"<strong>$%s</strong> = %s\", \"<ol>\\n%s</ol>\\n\", \"<dl>\\n%s</dl>\\n\", \n",
      "  .     numeric_item = \"\\t<dt>[[%s]]</dt>\\n\\t\\t<dd>%s</dd>\\n\", escape_fun = html_escape)\n",
      "14. lapply(vec, format2repr[[fmt]])\n",
      "15. FUN(X[[i]], ...)\n",
      "16. repr_html.matrix(X[[i]], ...)\n",
      "17. repr_matrix_generic(obj, \"<table>\\n%s%s</table>\\n\", \"<thead><tr>%s</tr></thead>\\n\", \n",
      "  .     \"<th></th>\", \"<th scope=col>%s</th>\", \"<tbody>\\n%s</tbody>\\n\", \n",
      "  .     \"\\t<tr>%s</tr>\\n\", \"<th scope=row>%s</th>\", \"<td>%s</td>\", \n",
      "  .     escape_fun = html_escape_vec, ...)\n",
      "18. sprintf(head, escape_fun(colnames(x)))\n",
      "19. escape_fun(colnames(x))\n",
      "20. .escape_vec(vec, \"html\")\n",
      "21. stop(\"expected `vec` to be a vector or factor but it is a \", \n",
      "  .     paste(class(vec), collapse = \", \"))\n",
      "ERROR while rich displaying an object: Error in .escape_vec(vec, \"latex\"): expected `vec` to be a vector or factor but it is a matrix\n",
      "\n",
      "Traceback:\n",
      "1. FUN(X[[i]], ...)\n",
      "2. tryCatch(withCallingHandlers({\n",
      " .     if (!mime %in% names(repr::mime2repr)) \n",
      " .         stop(\"No repr_* for mimetype \", mime, \" in repr::mime2repr\")\n",
      " .     rpr <- repr::mime2repr[[mime]](obj)\n",
      " .     if (is.null(rpr)) \n",
      " .         return(NULL)\n",
      " .     prepare_content(is.raw(rpr), rpr)\n",
      " . }, error = error_handler), error = outer_handler)\n",
      "3. tryCatchList(expr, classes, parentenv, handlers)\n",
      "4. tryCatchOne(expr, names, parentenv, handlers[[1L]])\n",
      "5. doTryCatch(return(expr), name, parentenv, handler)\n",
      "6. withCallingHandlers({\n",
      " .     if (!mime %in% names(repr::mime2repr)) \n",
      " .         stop(\"No repr_* for mimetype \", mime, \" in repr::mime2repr\")\n",
      " .     rpr <- repr::mime2repr[[mime]](obj)\n",
      " .     if (is.null(rpr)) \n",
      " .         return(NULL)\n",
      " .     prepare_content(is.raw(rpr), rpr)\n",
      " . }, error = error_handler)\n",
      "7. repr::mime2repr[[mime]](obj)\n",
      "8. repr_latex.list(obj)\n",
      "9. repr_list_generic(obj, \"latex\", \"\\\\item %s\\n\", \"\\\\item[\\\\$%s] %s\\n\", \n",
      " .     \"\\\\textbf{\\\\$%s} = %s\", enum_wrap = \"\\\\begin{enumerate}\\n%s\\\\end{enumerate}\\n\", \n",
      " .     named_wrap = \"\\\\begin{description}\\n%s\\\\end{description}\\n\", \n",
      " .     numeric_item = \"\\\\item[{[[%s]]}] %s\\n\", escape_fun = latex_escape)\n",
      "10. lapply(vec, format2repr[[fmt]])\n",
      "11. FUN(X[[i]], ...)\n",
      "12. repr_latex.list(X[[i]], ...)\n",
      "13. repr_list_generic(obj, \"latex\", \"\\\\item %s\\n\", \"\\\\item[\\\\$%s] %s\\n\", \n",
      "  .     \"\\\\textbf{\\\\$%s} = %s\", enum_wrap = \"\\\\begin{enumerate}\\n%s\\\\end{enumerate}\\n\", \n",
      "  .     named_wrap = \"\\\\begin{description}\\n%s\\\\end{description}\\n\", \n",
      "  .     numeric_item = \"\\\\item[{[[%s]]}] %s\\n\", escape_fun = latex_escape)\n",
      "14. lapply(vec, format2repr[[fmt]])\n",
      "15. FUN(X[[i]], ...)\n",
      "16. repr_latex.matrix(X[[i]], ...)\n",
      "17. repr_matrix_generic(obj, sprintf(\"\\\\begin{tabular}{%s}\\n%%s%%s\\\\end{tabular}\\n\", \n",
      "  .     cols), \"%s\\\\\\\\\\n\\\\hline\\n\", \"  &\", \" %s &\", \"%s\", \"\\t%s\\\\\\\\\\n\", \n",
      "  .     \"%s &\", \" %s &\", escape_fun = latex_escape_vec, ...)\n",
      "18. sprintf(head, escape_fun(colnames(x)))\n",
      "19. escape_fun(colnames(x))\n",
      "20. .escape_vec(vec, \"latex\")\n",
      "21. stop(\"expected `vec` to be a vector or factor but it is a \", \n",
      "  .     paste(class(vec), collapse = \", \"))\n"
     ]
    },
    {
     "data": {
      "text/markdown": [
       "**$AUC** = $`Analysis of Variance (log scale)`\n",
       ":   \n",
       "| <!--/--> | SS | DF | MS | F | p |\n",
       "|---|---|---|---|---|---|\n",
       "| SUBJECT | 4.166309e-02 | 17           | 2.450770e-03 | 3.625193487  | 0.006655285  |\n",
       "| GROUP | 3.503064e-03 |  1           | 3.503064e-03 | 1.468788923  | 0.243131137  |\n",
       "| SUBJECT(GROUP) | 3.816002e-02 | 16           | 2.385001e-03 | 3.527908520  | 0.008020546  |\n",
       "| PERIOD | 1.506225e-03 |  1           | 1.506225e-03 | 2.228017138  | 0.154983046  |\n",
       "| DRUG | 1.843508e-06 |  1           | 1.843508e-06 | 0.002726928  | 0.958999819  |\n",
       "| ERROR | 1.081661e-02 | 16           | 6.760383e-04 |          NA  |          NA  |\n",
       "| TOTAL | 5.398777e-02 | 35           |           NA |          NA  |          NA  |\n",
       "\n",
       "\n",
       "$`Between and Within Subject Variability`\n",
       ":   \n",
       "| <!--/--> | Between Subject | Within Subject |\n",
       "|---|---|---|\n",
       "| Variance Estimate | 0.0008544815 | 0.0006760383 |\n",
       "| Coefficient of Variation, CV(%) | 2.9237761533 | 2.6005132081 |\n",
       "\n",
       "\n",
       "$`Least Square Means (geometric mean)`\n",
       ":   \n",
       "| <!--/--> | Reference Drug | Test Drug |\n",
       "|---|---|---|\n",
       "| Geometric Means | 5.424348 | 5.426804 |\n",
       "\n",
       "\n",
       "$`90% Confidence Interval of Geometric Mean Ratio (T/R)`\n",
       ":   \n",
       "| <!--/--> | Lower Limit | Point Estimate | Upper Limit |\n",
       "|---|---|---|---|\n",
       "| 90% CI for Ratio | 0.9854284 | 1.000453  | 1.015706  |\n",
       "\n",
       "\n",
       "$`Sample Size`\n",
       ":   \n",
       "| <!--/--> | True Ratio=1 | True Ratio=Point Estimate |\n",
       "|---|---|---|\n",
       "| 80% Power Sample Size | 2 | 2 |\n",
       "\n",
       "\n",
       "\n",
       "\n"
      ],
      "text/plain": [
       "$AUC\n",
       "$AUC$`Analysis of Variance (log scale)`\n",
       "                         SS DF           MS           F           p\n",
       "SUBJECT        4.166309e-02 17 2.450770e-03 3.625193487 0.006655285\n",
       "GROUP          3.503064e-03  1 3.503064e-03 1.468788923 0.243131137\n",
       "SUBJECT(GROUP) 3.816002e-02 16 2.385001e-03 3.527908520 0.008020546\n",
       "PERIOD         1.506225e-03  1 1.506225e-03 2.228017138 0.154983046\n",
       "DRUG           1.843508e-06  1 1.843508e-06 0.002726928 0.958999819\n",
       "ERROR          1.081661e-02 16 6.760383e-04          NA          NA\n",
       "TOTAL          5.398777e-02 35           NA          NA          NA\n",
       "\n",
       "$AUC$`Between and Within Subject Variability`\n",
       "                                Between Subject Within Subject\n",
       "Variance Estimate                  0.0008544815   0.0006760383\n",
       "Coefficient of Variation, CV(%)    2.9237761533   2.6005132081\n",
       "\n",
       "$AUC$`Least Square Means (geometric mean)`\n",
       "                Reference Drug Test Drug\n",
       "Geometric Means       5.424348  5.426804\n",
       "\n",
       "$AUC$`90% Confidence Interval of Geometric Mean Ratio (T/R)`\n",
       "                 Lower Limit Point Estimate Upper Limit\n",
       "90% CI for Ratio   0.9854284       1.000453    1.015706\n",
       "\n",
       "$AUC$`Sample Size`\n",
       "                      True Ratio=1 True Ratio=Point Estimate\n",
       "80% Power Sample Size            2                         2\n",
       "\n"
      ]
     },
     "metadata": {},
     "output_type": "display_data"
    }
   ],
   "source": [
    "# Data Anaysis\n",
    "library(BE)\n",
    "BEdata <- with(long_data, data.frame(sub, period, formula, log(AUC)))\n",
    "names(BEdata) <- c(\"SUBJ\", \"PRD\", \"TRT\", \"AUC\")\n",
    "BEdata$GRP <- ifelse(long_data$seq == 1, \"RT\", \"TR\")\n",
    "be2x2(BEdata, Columns = c(\"AUC\"))"
   ]
  }
 ],
 "metadata": {
  "kernelspec": {
   "display_name": "R",
   "language": "R",
   "name": "ir"
  },
  "language_info": {
   "codemirror_mode": "r",
   "file_extension": ".r",
   "mimetype": "text/x-r-source",
   "name": "R",
   "pygments_lexer": "r",
   "version": "3.6.1"
  }
 },
 "nbformat": 4,
 "nbformat_minor": 2
}
