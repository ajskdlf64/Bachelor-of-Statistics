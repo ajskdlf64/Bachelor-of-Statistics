{
 "cells": [
  {
   "cell_type": "markdown",
   "metadata": {},
   "source": [
    "# out of Core Regression"
   ]
  },
  {
   "cell_type": "code",
   "execution_count": 1,
   "metadata": {},
   "outputs": [],
   "source": [
    "file = \"./MLB.csv\""
   ]
  },
  {
   "cell_type": "code",
   "execution_count": 2,
   "metadata": {},
   "outputs": [],
   "source": [
    "def outofCoreReg(file) :\n",
    "    \n",
    "    import csv\n",
    "    import numpy as np\n",
    "    import pandas as pd\n",
    "    \n",
    "    f = open(file, \"r\", encoding = \"utf-8\")\n",
    "    rdr = csv.reader(f)\n",
    "    varName = next(rdr)\n",
    "    k = len(varName)\n",
    "    xbar = np.zeros(k)\n",
    "    \n",
    "    return varName"
   ]
  },
  {
   "cell_type": "code",
   "execution_count": 4,
   "metadata": {},
   "outputs": [
    {
     "ename": "SyntaxError",
     "evalue": "invalid syntax (numpy.py, line 4)",
     "output_type": "error",
     "traceback": [
      "Traceback \u001b[1;36m(most recent call last)\u001b[0m:\n",
      "  File \u001b[0;32m\"C:\\Users\\user\\Anaconda3\\lib\\site-packages\\IPython\\core\\interactiveshell.py\"\u001b[0m, line \u001b[0;32m3267\u001b[0m, in \u001b[0;35mrun_code\u001b[0m\n    exec(code_obj, self.user_global_ns, self.user_ns)\n",
      "  File \u001b[0;32m\"<ipython-input-4-069ba31aa6d9>\"\u001b[0m, line \u001b[0;32m1\u001b[0m, in \u001b[0;35m<module>\u001b[0m\n    print(outofCoreReg(file))\n",
      "\u001b[1;36m  File \u001b[1;32m\"<ipython-input-2-b31f62a40b4b>\"\u001b[1;36m, line \u001b[1;32m4\u001b[1;36m, in \u001b[1;35moutofCoreReg\u001b[1;36m\u001b[0m\n\u001b[1;33m    import numpy as np\u001b[0m\n",
      "\u001b[1;36m  File \u001b[1;32m\"D:\\Bachelor of Statistics\\2019 - 02\\[응용통계학과] 빅데이터 분석 활용\\numpy.py\"\u001b[1;36m, line \u001b[1;32m4\u001b[0m\n\u001b[1;33m    %timeit [ i ** 2 for i in L]\u001b[0m\n\u001b[1;37m    ^\u001b[0m\n\u001b[1;31mSyntaxError\u001b[0m\u001b[1;31m:\u001b[0m invalid syntax\n"
     ]
    }
   ],
   "source": [
    "print(outofCoreReg(file))"
   ]
  }
 ],
 "metadata": {
  "kernelspec": {
   "display_name": "Python 3",
   "language": "python",
   "name": "python3"
  },
  "language_info": {
   "codemirror_mode": {
    "name": "ipython",
    "version": 3
   },
   "file_extension": ".py",
   "mimetype": "text/x-python",
   "name": "python",
   "nbconvert_exporter": "python",
   "pygments_lexer": "ipython3",
   "version": "3.6.7"
  }
 },
 "nbformat": 4,
 "nbformat_minor": 2
}
