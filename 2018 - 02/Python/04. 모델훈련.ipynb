{
 "cells": [
  {
   "cell_type": "markdown",
   "metadata": {},
   "source": [
    "# 선형회귀"
   ]
  },
  {
   "cell_type": "markdown",
   "metadata": {},
   "source": [
    "일반적으로 선형 모델은 입력 특성의 가중치 합과 편향(절편)이라는 상수를 더해 예측을 만든다.\n",
    "모델을 훈련시킨다는 것은 모델이 훈련세트에 가장 잘 맞도록 모델 파라미터를 설정하는 것이다.\n",
    "이를 위해서는 모델이 훈련세트에 얼마나 잘 들어맞는지 측정해야한다.\n",
    "회귀에 가장 널리 사용되는 성능 측정 지표는 평균 제곱근 오차 (RMSE) 이다.\n",
    "따라서 선형 회귀 모델을 훈련시키려면 RMSE를 최소화 하는 가중치를 찾아야 한다.\n",
    "실제로는 RMSE 보다 MSE를 최소화하는 것이 같은 결과를 내면서 더 간단하다."
   ]
  },
  {
   "cell_type": "markdown",
   "metadata": {},
   "source": [
    "# 정규방정식"
   ]
  },
  {
   "cell_type": "markdown",
   "metadata": {},
   "source": [
    "cost 함수를 최소화하는 가중치 값을 찾기 위한 해석적인 방법이 있다.\n",
    "다른 말로 하면 바로 결과를 얻을 수 있는 수학 공식이 있다.\n",
    "이를 정규방정식(Normal Equation)이라고 한다"
   ]
  },
  {
   "cell_type": "code",
   "execution_count": 1,
   "metadata": {},
   "outputs": [],
   "source": [
    "# 임의의 데이터셋 생성\n",
    "import numpy as np\n",
    "X = 2 * np.random.rand(100, 1)\n",
    "y = 4 + 3 * X + np.random.randn(100, 1)"
   ]
  },
  {
   "cell_type": "code",
   "execution_count": 2,
   "metadata": {},
   "outputs": [
    {
     "data": {
      "text/plain": [
       "Text(0,0.5,'y')"
      ]
     },
     "execution_count": 2,
     "metadata": {},
     "output_type": "execute_result"
    }
   ],
   "source": [
    "# 생성된 데이터셋 확인\n",
    "import matplotlib.pyplot as plt\n",
    "plt.scatter(X,y)\n",
    "plt.title(\"Random DataSet\")\n",
    "plt.xlabel(\"x\")\n",
    "plt.ylabel(\"y\")"
   ]
  },
  {
   "cell_type": "code",
   "execution_count": 3,
   "metadata": {},
   "outputs": [],
   "source": [
    "### 정규방정식을 사용해 가중치를 계산\n",
    "##### - 넘파이 선형대수 모듈(np.linalg)에 있는 inv() 함수를 사용해 역행렬을 계산하고,\n",
    "##### - dot() 메서드를 사용해 행렬곱셈 실시"
   ]
  },
  {
   "cell_type": "markdown",
   "metadata": {},
   "source": [
    "# 배치 경사 하강법 (Batch Gradient Descent)"
   ]
  },
  {
   "cell_type": "code",
   "execution_count": 4,
   "metadata": {},
   "outputs": [],
   "source": [
    "import numpy as np\n",
    "import pandas as pd\n",
    "import matplotlib.pyplot as plt"
   ]
  },
  {
   "cell_type": "code",
   "execution_count": 5,
   "metadata": {},
   "outputs": [],
   "source": [
    "X = 2 * np.random.rand(100, 1)\n",
    "y = 4 + 3 * X + np.random.randn(100, 1)\n",
    "X_b = np.c_[np.ones((100, 1)), X]  # 각각의 인스턴스에 x0 = 1 추가\n",
    "theta_best = np.linalg.inv(X_b.T.dot(X_b)).dot(X_b.T).dot(y)"
   ]
  },
  {
   "cell_type": "code",
   "execution_count": 6,
   "metadata": {},
   "outputs": [
    {
     "data": {
      "text/plain": [
       "array([[4.15178212],\n",
       "       [2.97202615]])"
      ]
     },
     "execution_count": 6,
     "metadata": {},
     "output_type": "execute_result"
    }
   ],
   "source": [
    "#학습률\n",
    "eta = 0.1\n",
    "\n",
    "#반복 횟수\n",
    "n_iterations = 1000\n",
    "\n",
    "#입력받는 특징수\n",
    "m = 100\n",
    "\n",
    "# 파라미터 값\n",
    "theta = np.random.randn(2,1)\n",
    "\n",
    "#정해준 반복횟수 만큼 배치경사하강법 수행하기\n",
    "for iteration in range(n_iterations):\n",
    "    gradients = 2/m * X_b.T.dot(X_b.dot(theta) - y)\n",
    "    theta = theta - eta * gradients\n",
    "\n",
    "# 계산된 theta 확인\n",
    "theta"
   ]
  },
  {
   "cell_type": "markdown",
   "metadata": {},
   "source": [
    "# 확률적 경사 하강법 (Stochastic gradient descent:SGD)"
   ]
  },
  {
   "cell_type": "code",
   "execution_count": 7,
   "metadata": {},
   "outputs": [
    {
     "name": "stderr",
     "output_type": "stream",
     "text": [
      "C:\\Users\\user\\Anaconda3\\lib\\site-packages\\sklearn\\linear_model\\stochastic_gradient.py:117: DeprecationWarning: n_iter parameter is deprecated in 0.19 and will be removed in 0.21. Use max_iter and tol instead.\n",
      "  DeprecationWarning)\n"
     ]
    },
    {
     "data": {
      "text/plain": [
       "(array([4.14657766]), array([2.97414541]))"
      ]
     },
     "execution_count": 7,
     "metadata": {},
     "output_type": "execute_result"
    }
   ],
   "source": [
    "# 사이킷런으로 구현\n",
    "from sklearn.linear_model import SGDRegressor\n",
    "sgd_reg = SGDRegressor(n_iter=50, penalty=None, eta0=0.1, random_state=42)\n",
    "sgd_reg.fit(X, y.ravel())\n",
    "sgd_reg.intercept_, sgd_reg.coef_"
   ]
  },
  {
   "cell_type": "markdown",
   "metadata": {},
   "source": [
    "# 다항회귀 (Polynomial Regression)"
   ]
  },
  {
   "cell_type": "code",
   "execution_count": 8,
   "metadata": {},
   "outputs": [],
   "source": [
    "# 2차방정식 비선형 데이터셋 생성\n",
    "m = 100\n",
    "X = 6 * np.random.rand(m, 1) - 3\n",
    "y = 0.5 * X**2 + X + 2 + np.random.randn(m, 1)"
   ]
  },
  {
   "cell_type": "code",
   "execution_count": 9,
   "metadata": {
    "scrolled": true
   },
   "outputs": [
    {
     "data": {
      "text/plain": [
       "<matplotlib.collections.PathCollection at 0x234ba276278>"
      ]
     },
     "execution_count": 9,
     "metadata": {},
     "output_type": "execute_result"
    },
    {
     "data": {
      "image/png": "[encoded data removed]",
      "text/plain": [
       "<Figure size 432x288 with 1 Axes>"
      ]
     },
     "metadata": {},
     "output_type": "display_data"
    }
   ],
   "source": [
    "# 데이터셋 확인\n",
    "plt.scatter(X,y)"
   ]
  },
  {
   "cell_type": "code",
   "execution_count": 10,
   "metadata": {},
   "outputs": [
    {
     "name": "stdout",
     "output_type": "stream",
     "text": [
      "X[0] 값 : [0.24507119]\n",
      "X_poly[0] 값 : [0.24507119 0.06005989]\n"
     ]
    }
   ],
   "source": [
    "# 사이킷런의 PolynomialFeatures를 사용해 훈련 데이터를 변환\n",
    "# 훈련 세트에 있는 각 특성을 제곱하여 새로운 특성으로 추가\n",
    "from sklearn.preprocessing import PolynomialFeatures\n",
    "poly_features = PolynomialFeatures(degree=2, include_bias=False)\n",
    "X_poly = poly_features.fit_transform(X)\n",
    "print(\"X[0] 값 : {}\".format(X[0]))\n",
    "print(\"X_poly[0] 값 : {}\".format(X_poly[0]))"
   ]
  },
  {
   "cell_type": "code",
   "execution_count": 11,
   "metadata": {},
   "outputs": [
    {
     "data": {
      "text/plain": [
       "(array([1.82839546]), array([[1.06320039, 0.5417911 ]]))"
      ]
     },
     "execution_count": 11,
     "metadata": {},
     "output_type": "execute_result"
    }
   ],
   "source": [
    "# X_poly는 원래 특성 X와 이 특성의 제곱을 포함\n",
    "# 여기에 Linear Regression을 적용\n",
    "from sklearn.linear_model import LinearRegression\n",
    "lin_reg = LinearRegression()\n",
    "lin_reg.fit(X_poly, y)\n",
    "lin_reg.intercept_, lin_reg.coef_"
   ]
  },
  {
   "cell_type": "code",
   "execution_count": 12,
   "metadata": {},
   "outputs": [
    {
     "data": {
      "image/png": "[encoded data removed]",
      "text/plain": [
       "<Figure size 432x288 with 1 Axes>"
      ]
     },
     "metadata": {},
     "output_type": "display_data"
    }
   ],
   "source": [
    "# 예측 그래프 확인\n",
    "plt.plot(X,y,\"b.\", label=\"Real Data\")\n",
    "plt.plot(X,lin_reg.predict(X_poly), \"r.\", label=\"Prediction\")\n",
    "plt.title(\"Polynomial Regression\")\n",
    "plt.xlabel(\"x1\")\n",
    "plt.ylabel(\"y\")\n",
    "plt.legend()\n",
    "plt.grid()\n",
    "plt.show()"
   ]
  },
  {
   "cell_type": "markdown",
   "metadata": {},
   "source": [
    "# 학습 곡선 (Learning Curves)"
   ]
  },
  {
   "cell_type": "markdown",
   "metadata": {},
   "source": [
    " 만약 높은 차수의 다항 회귀 모델을 사용하고 있다면, 평평한 선형 회귀 모델 보다 좀 더 학습 데이터를 잘 학습하는 경향이 있다는 것을 알게될 것이다. 예를들어, 아래의 그림은 순수한 선형 모델과 이차방정식 모델, 그리고 300차수의 다항식 모델에 대한 결과를 보여준다.\n",
    " \n",
    " 당연히 높은 차수의 다항 회귀 모델은 일부 학습 데이터에서 과하게 학습된(Overfitting) 반면에 선형회귀모델은 덜 학습된(Underfitting) 것을 볼 수 있다. 이차방정식 모델이 최적으로 학습이 되었다. 그렇지만 일반적으로 함수가 생성한 데이터는 모를 것이다. 그럼 우리의 학습 모델은 얼마나 복잡한 것일까? 어떻게 함수가 과하게 혹은 덜 학습되었다고 볼 수 있을까?"
   ]
  },
  {
   "cell_type": "code",
   "execution_count": 13,
   "metadata": {},
   "outputs": [],
   "source": [
    "from sklearn.metrics import mean_squared_error\n",
    "from sklearn.model_selection import train_test_split\n",
    "\n",
    "def plot_learning_curves(model, X, y):\n",
    "    X_train, X_val, y_train, y_val = train_test_split(X, y, test_size=0.2, random_state=10)\n",
    "    train_errors, val_errors = [], []\n",
    "    for m in range(1, len(X_train)):\n",
    "        model.fit(X_train[:m], y_train[:m])\n",
    "        y_train_predict = model.predict(X_train[:m])\n",
    "        y_val_predict = model.predict(X_val)\n",
    "        train_errors.append(mean_squared_error(y_train_predict, y_train[:m]))\n",
    "        val_errors.append(mean_squared_error(y_val_predict, y_val))\n",
    "\n",
    "    plt.plot(np.sqrt(train_errors), \"r-+\", linewidth=2, label=\"train\")\n",
    "    plt.plot(np.sqrt(val_errors), \"b-\", linewidth=3, label=\"val\")\n",
    "    plt.legend(loc=\"upper right\", fontsize=14)   \n",
    "    plt.xlabel(\"Training set size\", fontsize=14) \n",
    "    plt.ylabel(\"RMSE\", fontsize=14)              "
   ]
  },
  {
   "cell_type": "code",
   "execution_count": 14,
   "metadata": {},
   "outputs": [
    {
     "data": {
      "image/png": "[encoded data removed]",
      "text/plain": [
       "<Figure size 432x288 with 1 Axes>"
      ]
     },
     "metadata": {},
     "output_type": "display_data"
    }
   ],
   "source": [
    "# 선형회귀모델의 학습곡선\n",
    "lin_reg = LinearRegression()\n",
    "plot_learning_curves(lin_reg,X,y)"
   ]
  },
  {
   "cell_type": "code",
   "execution_count": 15,
   "metadata": {},
   "outputs": [
    {
     "data": {
      "image/png": "[encoded data removed]",
      "text/plain": [
       "<Figure size 432x288 with 1 Axes>"
      ]
     },
     "metadata": {},
     "output_type": "display_data"
    }
   ],
   "source": [
    "# 10차 다항식의 학습곡선\n",
    "from sklearn.pipeline import Pipeline\n",
    "\n",
    "polynomial_regression = Pipeline([\n",
    "        (\"poly_features\", PolynomialFeatures(degree=10, include_bias=False)),\n",
    "        (\"lin_reg\", LinearRegression()),\n",
    "    ])\n",
    "\n",
    "plot_learning_curves(polynomial_regression, X, y)\n",
    "plt.axis([0, 80, 0, 3])           \n",
    "plt.show()                        "
   ]
  },
  {
   "cell_type": "markdown",
   "metadata": {},
   "source": [
    "# 릿지 회귀 (Ridge Regression)"
   ]
  },
  {
   "cell_type": "markdown",
   "metadata": {},
   "source": [
    " 릿지 회귀는 규제가 추가된 선형 회귀이다. 규제항이 cost 함수에 추가됨으로써 학습 알고리즘을 데이터에 마주는 것 뿐만 아니라 모델의 가중치가 가능한 작게 유지된다 규제항은 훈련하는 동안에만 cost 함수에 추가되며, 훈련이 끝나면 모델의 성능은 규제가 없는 성능 지표로 평가한다."
   ]
  },
  {
   "cell_type": "markdown",
   "metadata": {},
   "source": [
    "하이퍼 파라미터 α는 얼마나 모델을 정형화 할 것인지 컨트롤해준다. α=0이면 리지 회귀 모델은 일반적인 선형 회귀모델이 되는 것이다. 만약 α가 너무 크다면, 모든 가중치 값들은 결국엔 0으로 가게될 것이고, 데이터 평균을 경험하는 평평한 선이 될 것이다. 아래의 수학 공식은 리지 회귀모델 손실 함수를 나타내는 것이다."
   ]
  },
  {
   "cell_type": "markdown",
   "metadata": {},
   "source": [
    "편향치 θ0는 정형화되지 않는다. w를 θ1부터 θn까지 특징값의 가중치 벡터로 정의하면, 정형화 식은 1/2(||w||2)^2가 될 것이며, || . ||2는 가중치 벡터의 정규값을 나타낸다. 경사 하강법에 대해서는 αw를 MSE 기울기 함수에 더하게된다."
   ]
  },
  {
   "cell_type": "markdown",
   "metadata": {},
   "source": [
    "아래의 그림은 다양한 α값을 사용하여 일부 선형 데이터에 대하여 학습된 리지 회귀 모델을 보여준다. 왼쪽에는 선형 예측으로 유도한 평평한 리지 회귀 모델이 사용된 것이고, 오른쪽에는, 데이터가 PolynomialFeature(degree=10)를 사용하여 확장시키고, StandardScaler로 스케일을 조정한 뒤에, 이렇게 처리된 특징들로 리지 모델에 적용시킨다. 이것이 리지 정형화로 만든 다항 회귀 모델이다.\n",
    "\n",
    "선형 모델에서는 경사 하강법을 사용하거나 폐쇄형태의 공식을 사용해서 리지 회귀를 수행할 수 있다. 장점과 단점은 같으며 아래의 공식예 폐쇄적인 형태의 솔루션을 보여주고 있다."
   ]
  },
  {
   "cell_type": "code",
   "execution_count": 16,
   "metadata": {},
   "outputs": [
    {
     "data": {
      "text/plain": [
       "array([[4.94728276]])"
      ]
     },
     "execution_count": 16,
     "metadata": {},
     "output_type": "execute_result"
    }
   ],
   "source": [
    "# sklearn을 통한 정규방정식을 사용한 릿지회귀\n",
    "from sklearn.linear_model import Ridge\n",
    "ridge_reg = Ridge(alpha=1, solver=\"cholesky\", random_state=42)\n",
    "ridge_reg.fit(X, y)\n",
    "ridge_reg.predict([[1.5]])"
   ]
  },
  {
   "cell_type": "code",
   "execution_count": 17,
   "metadata": {},
   "outputs": [
    {
     "name": "stderr",
     "output_type": "stream",
     "text": [
      "C:\\Users\\user\\Anaconda3\\lib\\site-packages\\sklearn\\linear_model\\stochastic_gradient.py:128: FutureWarning: max_iter and tol parameters have been added in <class 'sklearn.linear_model.stochastic_gradient.SGDRegressor'> in 0.19. If both are left unset, they default to max_iter=5 and tol=None. If tol is not None, max_iter defaults to max_iter=1000. From 0.21, default max_iter will be 1000, and default tol will be 1e-3.\n",
      "  \"and default tol will be 1e-3.\" % type(self), FutureWarning)\n"
     ]
    },
    {
     "data": {
      "text/plain": [
       "array([3.97851595])"
      ]
     },
     "execution_count": 17,
     "metadata": {},
     "output_type": "execute_result"
    }
   ],
   "source": [
    "# 확률적 경사 하강법을 사용한 릿지 회귀\n",
    "sgd_reg = SGDRegressor(penalty=\"l2\", random_state=42)\n",
    "sgd_reg.fit(X, y.ravel())\n",
    "sgd_reg.predict([[1.5]])"
   ]
  },
  {
   "cell_type": "markdown",
   "metadata": {},
   "source": [
    "Penalty라는 하이퍼 파라미터는 사용하려는 정형화 식의 종류를 설정해준다. \"l2\"를 쓰게되면 SGD에 가중치 벡터의 정규값의 제공을 반으로 나눈 것과 같이 손실함수에 정형화 식을 추가하라고 하는 것이다."
   ]
  },
  {
   "cell_type": "markdown",
   "metadata": {},
   "source": [
    "# 라쏘 회귀 (Lasso Regression)"
   ]
  },
  {
   "cell_type": "markdown",
   "metadata": {},
   "source": [
    " 라쏘 회귀는 선형 회귀의 또 다른 규제된 버전이다. 릿지 처럼 cost 함수에 규제항을 더하지만 다른 규제항을 더하는 것이다.\n",
    "    \n",
    " 역시 α에 따라 규제 정도가 달라진다.\n",
    "    \n",
    " 릿지 회귀는 가중치가 0 에 가까워질 뿐 실제로 0이 되지는 않는다. 그러나 라쏘 회귀의 가장 중요한 특징은 덜 중요한 가중치를 완전히 제거시킨다. 즉 가중치가 0이 될 수도 있다. 오른쪽 그래프는 α가 1e-07 일 때 2차 다항식처럼 되었다. 즉 원래 10차 다항식이지만 차수가 높은 가중치들이 모두 0이 된 것이다. 즉 라쏘 회귀는 자동으로 특성 선택을 하여 희소 모델을 만든다."
   ]
  },
  {
   "cell_type": "code",
   "execution_count": 18,
   "metadata": {},
   "outputs": [
    {
     "data": {
      "text/plain": [
       "array([4.89654296])"
      ]
     },
     "execution_count": 18,
     "metadata": {},
     "output_type": "execute_result"
    }
   ],
   "source": [
    "# 사이킷런으로 구현\n",
    "from sklearn.linear_model import Lasso\n",
    "lasso_reg = Lasso(alpha=0.1)\n",
    "lasso_reg.fit(X, y)\n",
    "lasso_reg.predict([[1.5]])"
   ]
  },
  {
   "cell_type": "markdown",
   "metadata": {},
   "source": [
    "# 엘라스틱넷 (Elastic Net)"
   ]
  },
  {
   "cell_type": "markdown",
   "metadata": {},
   "source": [
    " 엘라스틱넷은 릿지와 라쏘를 절충한 모델이다. 규제항의 경우 릿지와 라쏘의 규제항을 단순히 더해서 사용하며, 혼합 정도는 혼합비율 r을 사용해 조절한다. r=0 이면 엘라스틱넷은 릿지 회귀와 같고, r=1 이면 라쏘 회귀와 같다. "
   ]
  },
  {
   "cell_type": "markdown",
   "metadata": {},
   "source": [
    " 보통 선형 회귀, 릿지, 라쏘, 엘라스틱넷을 언제 사용할까? 일반적으로 규제가 어느정도 존재하는 것이 좋은 성능을 나타낸다.\n",
    "따라서 릿지회귀를 기본적으로 사용하되, 실제로 쓸만한 특성이 적을 것으로 생각되면 라쏘나 엘라스틱넷을 사용하는 것이 바람직하다.\n",
    "또한 특성 수가 샘플 수보다 많거나 특성 몇 개가 강하게 연관되어 있을 때는 보통 라쏘보다는 엘라스틱넷을 사용한다."
   ]
  },
  {
   "cell_type": "code",
   "execution_count": 19,
   "metadata": {},
   "outputs": [
    {
     "data": {
      "text/plain": [
       "array([4.8977335])"
      ]
     },
     "execution_count": 19,
     "metadata": {},
     "output_type": "execute_result"
    }
   ],
   "source": [
    "# 사이킷런으로 엘라스틱넷 구현\n",
    "from sklearn.linear_model import ElasticNet\n",
    "elastic_net = ElasticNet(alpha=0.1, l1_ratio=0.5)\n",
    "elastic_net.fit(X,y)\n",
    "elastic_net.predict([[1.5]])"
   ]
  },
  {
   "cell_type": "markdown",
   "metadata": {},
   "source": [
    "# 조기 종료 (early stopping)"
   ]
  },
  {
   "cell_type": "markdown",
   "metadata": {},
   "source": [
    "경사 하강법처럼 반복적인 학습 알고리즘을 규제하는 또 다른 방법은 검증 에러가 최솟값에 도달하면 훈련을 중지시키는 것이다. 이를 조기 종료라고한다."
   ]
  },
  {
   "cell_type": "code",
   "execution_count": null,
   "metadata": {},
   "outputs": [],
   "source": []
  },
  {
   "cell_type": "code",
   "execution_count": null,
   "metadata": {},
   "outputs": [],
   "source": []
  },
  {
   "cell_type": "code",
   "execution_count": null,
   "metadata": {},
   "outputs": [],
   "source": []
  }
 ],
 "metadata": {
  "kernelspec": {
   "display_name": "Python 3",
   "language": "python",
   "name": "python3"
  },
  "language_info": {
   "codemirror_mode": {
    "name": "ipython",
    "version": 3
   },
   "file_extension": ".py",
   "mimetype": "text/x-python",
   "name": "python",
   "nbconvert_exporter": "python",
   "pygments_lexer": "ipython3",
   "version": "3.6.5"
  }
 },
 "nbformat": 4,
 "nbformat_minor": 2
}
